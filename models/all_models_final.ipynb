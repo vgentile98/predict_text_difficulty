{
  "nbformat": 4,
  "nbformat_minor": 0,
  "metadata": {
    "colab": {
      "provenance": [],
      "collapsed_sections": [
        "K-QV4XngA_AO",
        "pAMXLvXeESgy",
        "eAvKnHt2E_GB",
        "jiEPG801FBsw",
        "cg3ATD_ZFD_g",
        "4pj0VI19FHA2",
        "qSgyrvnSL7Sl",
        "4dN-6xbIL7E4",
        "Fls7aBYAA9Or",
        "NvGsjArSAGfU",
        "Cm3R8COx5brG",
        "jBgGsBRi8Js7",
        "M5YkuXIf5mfC"
      ],
      "gpuType": "A100",
      "machine_shape": "hm",
      "authorship_tag": "ABX9TyM2XgFxGCAfBTcFOi7UaWyE",
      "include_colab_link": true
    },
    "kernelspec": {
      "name": "python3",
      "display_name": "Python 3"
    },
    "language_info": {
      "name": "python"
    },
    "accelerator": "GPU"
  },
  "cells": [
    {
      "cell_type": "markdown",
      "metadata": {
        "id": "view-in-github",
        "colab_type": "text"
      },
      "source": [
        "<a href=\"https://colab.research.google.com/github/vgentile98/predict_text_difficulty/blob/main/models/all_models_final.ipynb\" target=\"_parent\"><img src=\"https://colab.research.google.com/assets/colab-badge.svg\" alt=\"Open In Colab\"/></a>"
      ]
    },
    {
      "cell_type": "markdown",
      "source": [
        "# Importing Libraries & Loading Data 📚"
      ],
      "metadata": {
        "id": "MIxLWHsJ2X7c"
      }
    },
    {
      "cell_type": "code",
      "source": [
        "pip install keras-tuner"
      ],
      "metadata": {
        "colab": {
          "base_uri": "https://localhost:8080/"
        },
        "id": "82K7r5ZKxhSl",
        "outputId": "e77d3118-9ebd-4333-823e-c8604ac581d0"
      },
      "execution_count": 1,
      "outputs": [
        {
          "output_type": "stream",
          "name": "stdout",
          "text": [
            "Collecting keras-tuner\n",
            "  Downloading keras_tuner-1.4.7-py3-none-any.whl (129 kB)\n",
            "\u001b[?25l     \u001b[90m━━━━━━━━━━━━━━━━━━━━━━━━━━━━━━━━━━━━━━━━\u001b[0m \u001b[32m0.0/129.1 kB\u001b[0m \u001b[31m?\u001b[0m eta \u001b[36m-:--:--\u001b[0m\r\u001b[2K     \u001b[91m━━━━━━━━━━━━━━━━━━━━━━━━━━━━━━━━━━━━━━\u001b[0m\u001b[90m╺\u001b[0m\u001b[90m━\u001b[0m \u001b[32m122.9/129.1 kB\u001b[0m \u001b[31m3.9 MB/s\u001b[0m eta \u001b[36m0:00:01\u001b[0m\r\u001b[2K     \u001b[90m━━━━━━━━━━━━━━━━━━━━━━━━━━━━━━━━━━━━━━━━\u001b[0m \u001b[32m129.1/129.1 kB\u001b[0m \u001b[31m2.7 MB/s\u001b[0m eta \u001b[36m0:00:00\u001b[0m\n",
            "\u001b[?25hRequirement already satisfied: keras in /usr/local/lib/python3.10/dist-packages (from keras-tuner) (2.15.0)\n",
            "Requirement already satisfied: packaging in /usr/local/lib/python3.10/dist-packages (from keras-tuner) (24.0)\n",
            "Requirement already satisfied: requests in /usr/local/lib/python3.10/dist-packages (from keras-tuner) (2.31.0)\n",
            "Collecting kt-legacy (from keras-tuner)\n",
            "  Downloading kt_legacy-1.0.5-py3-none-any.whl (9.6 kB)\n",
            "Requirement already satisfied: charset-normalizer<4,>=2 in /usr/local/lib/python3.10/dist-packages (from requests->keras-tuner) (3.3.2)\n",
            "Requirement already satisfied: idna<4,>=2.5 in /usr/local/lib/python3.10/dist-packages (from requests->keras-tuner) (3.7)\n",
            "Requirement already satisfied: urllib3<3,>=1.21.1 in /usr/local/lib/python3.10/dist-packages (from requests->keras-tuner) (2.0.7)\n",
            "Requirement already satisfied: certifi>=2017.4.17 in /usr/local/lib/python3.10/dist-packages (from requests->keras-tuner) (2024.2.2)\n",
            "Installing collected packages: kt-legacy, keras-tuner\n",
            "Successfully installed keras-tuner-1.4.7 kt-legacy-1.0.5\n"
          ]
        }
      ]
    },
    {
      "cell_type": "code",
      "execution_count": 80,
      "metadata": {
        "id": "dYifBx9a-g1E"
      },
      "outputs": [],
      "source": [
        "# Import relevant libraries\n",
        "import pandas as pd\n",
        "import numpy as np\n",
        "from google.colab import files\n",
        "from sklearn.feature_extraction.text import TfidfVectorizer\n",
        "from sklearn.model_selection import train_test_split, GridSearchCV, cross_val_score\n",
        "from sklearn.preprocessing import LabelEncoder\n",
        "from sklearn.metrics import classification_report, confusion_matrix, accuracy_score, precision_score, recall_score, f1_score\n",
        "from sklearn.linear_model import LogisticRegression\n",
        "from sklearn.neighbors import KNeighborsClassifier\n",
        "from sklearn.tree import DecisionTreeClassifier\n",
        "from sklearn.ensemble import RandomForestClassifier\n",
        "from sklearn.ensemble import GradientBoostingClassifier\n",
        "from sklearn.svm import SVC\n",
        "from sklearn.naive_bayes import MultinomialNB\n",
        "from tensorflow import keras\n",
        "from tensorflow.keras.models import Sequential\n",
        "from tensorflow.keras.layers import Dense, Dropout\n",
        "from tensorflow.keras.optimizers import Adam\n",
        "from kerastuner.tuners import RandomSearch\n",
        "import matplotlib.pyplot as plt\n",
        "import seaborn as sns"
      ]
    },
    {
      "cell_type": "code",
      "source": [
        "# Load datasets\n",
        "training_data = pd.read_csv(\"https://raw.githubusercontent.com/vgentile98/predict_text_difficulty/main/data/training_data.csv\")\n",
        "test_data = pd.read_csv(\"https://raw.githubusercontent.com/vgentile98/predict_text_difficulty/main/data/unlabelled_test_data.csv\")"
      ],
      "metadata": {
        "id": "ypthCSgpB3TY"
      },
      "execution_count": 3,
      "outputs": []
    },
    {
      "cell_type": "markdown",
      "source": [
        "# Trying Different Models - With Hyperparameters Optimization but Without Data Preprocessing 🔢"
      ],
      "metadata": {
        "id": "s5dw_Jmq2o1y"
      }
    },
    {
      "cell_type": "code",
      "source": [
        "# Extract features using TF-IDF\n",
        "tfidf_vectorizer = TfidfVectorizer()\n",
        "X = tfidf_vectorizer.fit_transform(training_data['sentence'])\n",
        "y = training_data['difficulty']\n",
        "\n",
        "# Split the data into training and testing sets\n",
        "X_train, X_test, y_train, y_test = train_test_split(X, y, test_size=0.2, random_state=42)"
      ],
      "metadata": {
        "id": "pLCd5LdP_9Q1"
      },
      "execution_count": 4,
      "outputs": []
    },
    {
      "cell_type": "markdown",
      "source": [
        "## Logistic Regression (46%)"
      ],
      "metadata": {
        "id": "K-QV4XngA_AO"
      }
    },
    {
      "cell_type": "markdown",
      "source": [
        "**Use default parameters**"
      ],
      "metadata": {
        "id": "pp6Hq1rzEWEO"
      }
    },
    {
      "cell_type": "code",
      "source": [
        "# Initialize the model\n",
        "lr_model = LogisticRegression(random_state=42, max_iter=5000)\n",
        "\n",
        "# Train the model\n",
        "lr_model.fit(X_train, y_train)\n",
        "\n",
        "# Predict on testing set\n",
        "y_pred_lr = lr_model.predict(X_test)\n",
        "\n",
        "# Evaluate model\n",
        "lr_report = classification_report(y_test, y_pred_lr)"
      ],
      "metadata": {
        "id": "7R82gzkB_9TS"
      },
      "execution_count": 5,
      "outputs": []
    },
    {
      "cell_type": "code",
      "source": [
        "print(lr_report)"
      ],
      "metadata": {
        "colab": {
          "base_uri": "https://localhost:8080/"
        },
        "id": "TB_gJ0_s_9V-",
        "outputId": "d6c522e2-0fad-45cc-f345-3081e620930b"
      },
      "execution_count": 6,
      "outputs": [
        {
          "output_type": "stream",
          "name": "stdout",
          "text": [
            "              precision    recall  f1-score   support\n",
            "\n",
            "          A1       0.49      0.64      0.56       166\n",
            "          A2       0.34      0.30      0.32       158\n",
            "          B1       0.41      0.27      0.33       166\n",
            "          B2       0.44      0.41      0.43       153\n",
            "          C1       0.45      0.48      0.47       152\n",
            "          C2       0.51      0.58      0.54       165\n",
            "\n",
            "    accuracy                           0.45       960\n",
            "   macro avg       0.44      0.45      0.44       960\n",
            "weighted avg       0.44      0.45      0.44       960\n",
            "\n"
          ]
        }
      ]
    },
    {
      "cell_type": "markdown",
      "source": [
        "**Hyperparameter Optimization**"
      ],
      "metadata": {
        "id": "ET9iDePkEmHD"
      }
    },
    {
      "cell_type": "code",
      "source": [
        "# Setup GridSearchCV\n",
        "lr_param_grid = {\n",
        "    'C': [0.01, 0.1, 1, 10, 100],  # Regularization strength\n",
        "    'penalty': ['l2'],  # Using 'l2' as 'l1' is not supported with 'lbfgs' solver in this context\n",
        "    'solver': ['lbfgs', 'saga']\n",
        "}\n",
        "\n",
        "# Create the GridSearchCV object\n",
        "lr_grid = GridSearchCV(lr_model, lr_param_grid, cv=5, verbose=1, n_jobs=-1)\n",
        "\n",
        "# Perform grid search\n",
        "lr_grid.fit(X_train, y_train)\n",
        "\n",
        "# Best parameters and best score\n",
        "lr_best_params = lr_grid.best_params_\n",
        "lr_best_score = lr_grid.best_score_\n",
        "\n",
        "print(\"Best parameters:\", lr_best_params)\n",
        "print(\"Best cross-validation score: {:.2f}\".format(lr_best_score))"
      ],
      "metadata": {
        "colab": {
          "base_uri": "https://localhost:8080/"
        },
        "id": "g-uayfqVA9o7",
        "outputId": "50b309c8-983f-4706-c7f4-ab8e07917268"
      },
      "execution_count": 7,
      "outputs": [
        {
          "output_type": "stream",
          "name": "stdout",
          "text": [
            "Fitting 5 folds for each of 10 candidates, totalling 50 fits\n"
          ]
        },
        {
          "output_type": "stream",
          "name": "stderr",
          "text": [
            "/usr/local/lib/python3.10/dist-packages/joblib/externals/loky/backend/fork_exec.py:38: RuntimeWarning: os.fork() was called. os.fork() is incompatible with multithreaded code, and JAX is multithreaded, so this will likely lead to a deadlock.\n",
            "  pid = os.fork()\n",
            "/usr/local/lib/python3.10/dist-packages/joblib/externals/loky/backend/fork_exec.py:38: RuntimeWarning: os.fork() was called. os.fork() is incompatible with multithreaded code, and JAX is multithreaded, so this will likely lead to a deadlock.\n",
            "  pid = os.fork()\n"
          ]
        },
        {
          "output_type": "stream",
          "name": "stdout",
          "text": [
            "Best parameters: {'C': 10, 'penalty': 'l2', 'solver': 'saga'}\n",
            "Best cross-validation score: 0.45\n"
          ]
        }
      ]
    },
    {
      "cell_type": "markdown",
      "source": [
        "**Use optimized parameters**"
      ],
      "metadata": {
        "id": "qkPk9UNwEpwF"
      }
    },
    {
      "cell_type": "code",
      "source": [
        "# Initialize the best logistic regression model from grid search results\n",
        "y_pred_best_lr = lr_grid.predict(X_test)\n",
        "\n",
        "# Evaluate model\n",
        "best_lr_report = classification_report(y_test, y_pred_best_lr)"
      ],
      "metadata": {
        "id": "-kJyxFNwA9qk"
      },
      "execution_count": 8,
      "outputs": []
    },
    {
      "cell_type": "code",
      "source": [
        "print(best_lr_report)"
      ],
      "metadata": {
        "colab": {
          "base_uri": "https://localhost:8080/"
        },
        "id": "xPEpLlejDsfC",
        "outputId": "ef7663d4-0595-4787-bbb2-e66594358f1d"
      },
      "execution_count": 9,
      "outputs": [
        {
          "output_type": "stream",
          "name": "stdout",
          "text": [
            "              precision    recall  f1-score   support\n",
            "\n",
            "          A1       0.51      0.63      0.56       166\n",
            "          A2       0.35      0.36      0.35       158\n",
            "          B1       0.42      0.31      0.35       166\n",
            "          B2       0.46      0.44      0.45       153\n",
            "          C1       0.47      0.47      0.47       152\n",
            "          C2       0.55      0.56      0.55       165\n",
            "\n",
            "    accuracy                           0.46       960\n",
            "   macro avg       0.46      0.46      0.46       960\n",
            "weighted avg       0.46      0.46      0.46       960\n",
            "\n"
          ]
        }
      ]
    },
    {
      "cell_type": "markdown",
      "source": [
        "## k-Nearest Neightbors (KNN) (33%)"
      ],
      "metadata": {
        "id": "pAMXLvXeESgy"
      }
    },
    {
      "cell_type": "markdown",
      "source": [
        "**Use default parameters**"
      ],
      "metadata": {
        "id": "fSbyo3pNEu54"
      }
    },
    {
      "cell_type": "code",
      "source": [
        "# Initialize the KNN model\n",
        "knn_model = KNeighborsClassifier()\n",
        "\n",
        "# Train the model\n",
        "knn_model.fit(X_train, y_train)\n",
        "\n",
        "# Predict on testing set\n",
        "y_pred_knn = knn_model.predict(X_test)\n",
        "\n",
        "# Evaluate model\n",
        "knn_report = classification_report(y_test, y_pred_knn)"
      ],
      "metadata": {
        "id": "oGp8877WDsjx"
      },
      "execution_count": 10,
      "outputs": []
    },
    {
      "cell_type": "code",
      "source": [
        "print(knn_report)"
      ],
      "metadata": {
        "id": "KzOdXKg6Fqg8",
        "colab": {
          "base_uri": "https://localhost:8080/"
        },
        "outputId": "ebd96b1b-9020-4e96-d4f2-0aa1d68335a0"
      },
      "execution_count": 11,
      "outputs": [
        {
          "output_type": "stream",
          "name": "stdout",
          "text": [
            "              precision    recall  f1-score   support\n",
            "\n",
            "          A1       0.30      0.85      0.44       166\n",
            "          A2       0.21      0.26      0.23       158\n",
            "          B1       0.21      0.13      0.16       166\n",
            "          B2       0.47      0.23      0.31       153\n",
            "          C1       0.57      0.17      0.26       152\n",
            "          C2       0.64      0.25      0.36       165\n",
            "\n",
            "    accuracy                           0.32       960\n",
            "   macro avg       0.40      0.32      0.29       960\n",
            "weighted avg       0.40      0.32      0.30       960\n",
            "\n"
          ]
        }
      ]
    },
    {
      "cell_type": "markdown",
      "source": [
        "**Hyperparameter Optimization**"
      ],
      "metadata": {
        "id": "5XhwrNimEyFX"
      }
    },
    {
      "cell_type": "code",
      "source": [
        "# Setup GridSearchCV for KNN\n",
        "knn_param_grid = {\n",
        "    'n_neighbors': [3, 5, 7, 10, 15],  # Number of neighbors\n",
        "    'metric': ['euclidean', 'manhattan']  # Distance metrics\n",
        "}\n",
        "\n",
        "# Create the GridSearchCV object for KNN\n",
        "knn_grid = GridSearchCV(knn_model, knn_param_grid, cv=5, verbose=1, n_jobs=-1)\n",
        "\n",
        "# Perform the grid search\n",
        "knn_grid.fit(X_train, y_train)\n",
        "\n",
        "# Retrieve the best parameters and best score\n",
        "knn_best_params = knn_grid.best_params_\n",
        "knn_best_score = knn_grid.best_score_\n",
        "\n",
        "print(\"Best parameters:\", knn_best_params)\n",
        "print(\"Best cross-validation score: {:.2f}\".format(knn_best_score))"
      ],
      "metadata": {
        "id": "0x-FCixCDuiB",
        "colab": {
          "base_uri": "https://localhost:8080/"
        },
        "outputId": "42d4718c-11cb-4e59-c307-2695a56d87f2"
      },
      "execution_count": 12,
      "outputs": [
        {
          "output_type": "stream",
          "name": "stdout",
          "text": [
            "Fitting 5 folds for each of 10 candidates, totalling 50 fits\n",
            "Best parameters: {'metric': 'euclidean', 'n_neighbors': 15}\n",
            "Best cross-validation score: 0.32\n"
          ]
        }
      ]
    },
    {
      "cell_type": "markdown",
      "source": [
        "**Use optimized parameters**"
      ],
      "metadata": {
        "id": "wicldzrbE4Zj"
      }
    },
    {
      "cell_type": "code",
      "source": [
        "# Initialize the best knn model from grid search results\n",
        "y_pred_best_knn = knn_grid.predict(X_test)\n",
        "\n",
        "# Evaluate model\n",
        "best_knn_report = classification_report(y_test, y_pred_best_knn)"
      ],
      "metadata": {
        "id": "52_Jaz8oE4lr"
      },
      "execution_count": 13,
      "outputs": []
    },
    {
      "cell_type": "code",
      "source": [
        "print(best_knn_report)"
      ],
      "metadata": {
        "id": "tiT60IcgG__4",
        "colab": {
          "base_uri": "https://localhost:8080/"
        },
        "outputId": "1f649a77-7caa-43c3-c032-2e87b0c39438"
      },
      "execution_count": 14,
      "outputs": [
        {
          "output_type": "stream",
          "name": "stdout",
          "text": [
            "              precision    recall  f1-score   support\n",
            "\n",
            "          A1       0.31      0.76      0.44       166\n",
            "          A2       0.22      0.31      0.26       158\n",
            "          B1       0.25      0.19      0.21       166\n",
            "          B2       0.46      0.20      0.28       153\n",
            "          C1       0.49      0.16      0.24       152\n",
            "          C2       0.55      0.32      0.40       165\n",
            "\n",
            "    accuracy                           0.33       960\n",
            "   macro avg       0.38      0.32      0.31       960\n",
            "weighted avg       0.38      0.33      0.31       960\n",
            "\n"
          ]
        }
      ]
    },
    {
      "cell_type": "markdown",
      "source": [
        "## Decision Tree (32%)"
      ],
      "metadata": {
        "id": "eAvKnHt2E_GB"
      }
    },
    {
      "cell_type": "markdown",
      "source": [
        "**Use default parameters**"
      ],
      "metadata": {
        "id": "bPxzwTwjHhXf"
      }
    },
    {
      "cell_type": "code",
      "source": [
        "# Initialize the KNN model\n",
        "dt_model = DecisionTreeClassifier(random_state=42)\n",
        "\n",
        "# Train the model\n",
        "dt_model.fit(X_train, y_train)\n",
        "\n",
        "# Predict on testing set\n",
        "y_pred_dt = dt_model.predict(X_test)\n",
        "\n",
        "# Evaluate model\n",
        "dt_report = classification_report(y_test, y_pred_dt)"
      ],
      "metadata": {
        "id": "tNcpqUFMFBlb"
      },
      "execution_count": 43,
      "outputs": []
    },
    {
      "cell_type": "code",
      "source": [
        "print(dt_report)"
      ],
      "metadata": {
        "id": "c9RvplfWHyGM",
        "colab": {
          "base_uri": "https://localhost:8080/"
        },
        "outputId": "e2a59711-2b39-4758-fa6d-6e80c343dff7"
      },
      "execution_count": 44,
      "outputs": [
        {
          "output_type": "stream",
          "name": "stdout",
          "text": [
            "              precision    recall  f1-score   support\n",
            "\n",
            "           0       0.49      0.55      0.52       166\n",
            "           1       0.31      0.32      0.31       158\n",
            "           2       0.30      0.23      0.26       166\n",
            "           3       0.26      0.31      0.28       153\n",
            "           4       0.24      0.22      0.23       152\n",
            "           5       0.32      0.31      0.31       165\n",
            "\n",
            "    accuracy                           0.33       960\n",
            "   macro avg       0.32      0.32      0.32       960\n",
            "weighted avg       0.32      0.33      0.32       960\n",
            "\n"
          ]
        }
      ]
    },
    {
      "cell_type": "markdown",
      "source": [
        "**Hyperparameter Optimization**"
      ],
      "metadata": {
        "id": "veUGrzblHyNU"
      }
    },
    {
      "cell_type": "code",
      "source": [
        "# Setup GridSearchCV for decision tree\n",
        "dt_param_grid = {\n",
        "    'max_depth': [None, 10, 20, 30],  # Maximum depth of the tree\n",
        "    'min_samples_split': [2, 5, 10, 20],  # Minimum number of samples required to split a node\n",
        "    'min_samples_leaf': [1, 2, 5, 10]  # Minimum number of samples required at a leaf node\n",
        "}\n",
        "\n",
        "# Create the GridSearchCV object for decision tree\n",
        "dt_grid = GridSearchCV(dt_model, dt_param_grid, cv=5, verbose=1, n_jobs=-1)\n",
        "\n",
        "# Perform the grid search\n",
        "dt_grid.fit(X_train, y_train)\n",
        "\n",
        "# Retrieve the best parameters and best score\n",
        "dt_best_params = dt_grid.best_params_\n",
        "dt_best_score = dt_grid.best_score_\n",
        "\n",
        "print(\"Best parameters:\", dt_best_params)\n",
        "print(\"Best cross-validation score: {:.2f}\".format(dt_best_score))"
      ],
      "metadata": {
        "id": "NxvdA8TDHybK",
        "colab": {
          "base_uri": "https://localhost:8080/"
        },
        "outputId": "7dcab614-4bbf-496b-8a0c-ee25a63e47b8"
      },
      "execution_count": 17,
      "outputs": [
        {
          "output_type": "stream",
          "name": "stdout",
          "text": [
            "Fitting 5 folds for each of 64 candidates, totalling 320 fits\n",
            "Best parameters: {'max_depth': 30, 'min_samples_leaf': 10, 'min_samples_split': 2}\n",
            "Best cross-validation score: 0.32\n"
          ]
        }
      ]
    },
    {
      "cell_type": "markdown",
      "source": [
        "**Use optimized parameters**"
      ],
      "metadata": {
        "id": "YB-i5FJoJCkk"
      }
    },
    {
      "cell_type": "code",
      "source": [
        "# Initialize the best knn model from grid search results\n",
        "y_pred_best_dt = dt_grid.predict(X_test)\n",
        "\n",
        "# Evaluate model\n",
        "best_dt_report = classification_report(y_test, y_pred_best_dt)"
      ],
      "metadata": {
        "id": "2Yif55dSJFCQ"
      },
      "execution_count": 18,
      "outputs": []
    },
    {
      "cell_type": "code",
      "source": [
        "print(best_dt_report)"
      ],
      "metadata": {
        "id": "Vp41IBmvKXOP",
        "colab": {
          "base_uri": "https://localhost:8080/"
        },
        "outputId": "a75cbc04-7c90-4336-c1f9-b147797dc3f4"
      },
      "execution_count": 19,
      "outputs": [
        {
          "output_type": "stream",
          "name": "stdout",
          "text": [
            "              precision    recall  f1-score   support\n",
            "\n",
            "          A1       0.45      0.52      0.48       166\n",
            "          A2       0.30      0.23      0.26       158\n",
            "          B1       0.29      0.23      0.26       166\n",
            "          B2       0.23      0.34      0.27       153\n",
            "          C1       0.27      0.24      0.25       152\n",
            "          C2       0.21      0.18      0.19       165\n",
            "\n",
            "    accuracy                           0.29       960\n",
            "   macro avg       0.29      0.29      0.29       960\n",
            "weighted avg       0.29      0.29      0.29       960\n",
            "\n"
          ]
        }
      ]
    },
    {
      "cell_type": "markdown",
      "source": [
        "## Random Forest (42%)"
      ],
      "metadata": {
        "id": "jiEPG801FBsw"
      }
    },
    {
      "cell_type": "markdown",
      "source": [
        "**Use default parameters**"
      ],
      "metadata": {
        "id": "md7qcpiiNlbd"
      }
    },
    {
      "cell_type": "code",
      "source": [
        "# Initialize the Random Forest model\n",
        "rf_model = RandomForestClassifier(random_state=42)\n",
        "\n",
        "# Train the model on the training set\n",
        "rf_model.fit(X_train, y_train)\n",
        "\n",
        "# Predict on the validation set\n",
        "y_pred_rf = rf_model.predict(X_test)\n",
        "\n",
        "# Evaluate the model\n",
        "rf_report = classification_report(y_test, y_pred_rf)"
      ],
      "metadata": {
        "id": "e8V1qdegFDu5"
      },
      "execution_count": 20,
      "outputs": []
    },
    {
      "cell_type": "code",
      "source": [
        "print(rf_report)"
      ],
      "metadata": {
        "id": "W9uagLB9N3Xy",
        "colab": {
          "base_uri": "https://localhost:8080/"
        },
        "outputId": "cac66f52-9fdf-4b6a-b62e-bfbc70f0225d"
      },
      "execution_count": 21,
      "outputs": [
        {
          "output_type": "stream",
          "name": "stdout",
          "text": [
            "              precision    recall  f1-score   support\n",
            "\n",
            "          A1       0.45      0.78      0.57       166\n",
            "          A2       0.33      0.27      0.30       158\n",
            "          B1       0.36      0.23      0.29       166\n",
            "          B2       0.37      0.39      0.38       153\n",
            "          C1       0.37      0.38      0.37       152\n",
            "          C2       0.53      0.37      0.44       165\n",
            "\n",
            "    accuracy                           0.41       960\n",
            "   macro avg       0.40      0.40      0.39       960\n",
            "weighted avg       0.40      0.41      0.39       960\n",
            "\n"
          ]
        }
      ]
    },
    {
      "cell_type": "markdown",
      "source": [
        "**Hyperparameter Optimization**"
      ],
      "metadata": {
        "id": "k5I1hnVnN90H"
      }
    },
    {
      "cell_type": "code",
      "source": [
        "# Setup GridSearchCV\n",
        "rf_param_grid = {\n",
        "    'n_estimators': [100, 200, 300],  # Number of trees in the forest\n",
        "    'max_depth': [None, 10, 20, 30],  # Maximum depth of each tree\n",
        "    'min_samples_split': [2, 5, 10]  # Minimum number of samples required to split an internal node\n",
        "}\n",
        "\n",
        "# Create the GridSearchCV object\n",
        "rf_grid = GridSearchCV(rf_model, rf_param_grid, cv=5, verbose=1, n_jobs=-1)\n",
        "\n",
        "# Perform the grid search\n",
        "rf_grid.fit(X_train, y_train)\n",
        "\n",
        "# Retrieve the best parameters and best score\n",
        "rf_best_params = rf_grid.best_params_\n",
        "rf_best_score = rf_grid.best_score_\n",
        "\n",
        "print(\"Best parameters:\", rf_best_params)\n",
        "print(\"Best cross-validation score: {:.2f}\".format(rf_best_score))"
      ],
      "metadata": {
        "id": "GWHs8b4SN98S",
        "colab": {
          "base_uri": "https://localhost:8080/"
        },
        "outputId": "2fac9e79-9454-49b5-be1f-fc29bb1c4e76"
      },
      "execution_count": 22,
      "outputs": [
        {
          "output_type": "stream",
          "name": "stdout",
          "text": [
            "Fitting 5 folds for each of 36 candidates, totalling 180 fits\n",
            "Best parameters: {'max_depth': None, 'min_samples_split': 2, 'n_estimators': 300}\n",
            "Best cross-validation score: 0.43\n"
          ]
        }
      ]
    },
    {
      "cell_type": "markdown",
      "source": [
        "**Use optimized parameters**"
      ],
      "metadata": {
        "id": "otfqC1YtN-Op"
      }
    },
    {
      "cell_type": "code",
      "source": [
        "y_pred_best_rf = rf_grid.predict(X_test)\n",
        "best_rf_report = classification_report(y_test, y_pred_best_rf)\n",
        "print(best_rf_report)"
      ],
      "metadata": {
        "id": "BZsDQ3p5N-Ux",
        "colab": {
          "base_uri": "https://localhost:8080/"
        },
        "outputId": "be640d37-6da0-4370-b15f-7c4a4ba8e3e8"
      },
      "execution_count": 23,
      "outputs": [
        {
          "output_type": "stream",
          "name": "stdout",
          "text": [
            "              precision    recall  f1-score   support\n",
            "\n",
            "          A1       0.45      0.79      0.57       166\n",
            "          A2       0.33      0.27      0.30       158\n",
            "          B1       0.41      0.23      0.30       166\n",
            "          B2       0.36      0.41      0.38       153\n",
            "          C1       0.42      0.44      0.43       152\n",
            "          C2       0.55      0.36      0.43       165\n",
            "\n",
            "    accuracy                           0.42       960\n",
            "   macro avg       0.42      0.42      0.40       960\n",
            "weighted avg       0.42      0.42      0.40       960\n",
            "\n"
          ]
        }
      ]
    },
    {
      "cell_type": "markdown",
      "source": [
        "## Support Vector Machines (SVM) (45%)"
      ],
      "metadata": {
        "id": "cg3ATD_ZFD_g"
      }
    },
    {
      "cell_type": "markdown",
      "source": [
        "**Use default parameters**"
      ],
      "metadata": {
        "id": "BExVzejGQeGI"
      }
    },
    {
      "cell_type": "code",
      "source": [
        "# Initialize the SVM model\n",
        "svm_model = SVC(kernel='linear', random_state=42)\n",
        "\n",
        "# Train the model on the training set\n",
        "svm_model.fit(X_train, y_train)\n",
        "\n",
        "# Predict on the validation set\n",
        "y_pred_svm = svm_model.predict(X_test)\n",
        "\n",
        "# Evaluate the model\n",
        "svm_report = classification_report(y_test, y_pred_svm)\n",
        "print(svm_report)"
      ],
      "metadata": {
        "id": "GzP8LAsXLpqN",
        "colab": {
          "base_uri": "https://localhost:8080/"
        },
        "outputId": "d307bc5c-5da4-4533-a9f1-2dc80b7d7368"
      },
      "execution_count": 24,
      "outputs": [
        {
          "output_type": "stream",
          "name": "stdout",
          "text": [
            "              precision    recall  f1-score   support\n",
            "\n",
            "          A1       0.53      0.64      0.58       166\n",
            "          A2       0.34      0.35      0.35       158\n",
            "          B1       0.40      0.31      0.35       166\n",
            "          B2       0.44      0.43      0.44       153\n",
            "          C1       0.44      0.45      0.44       152\n",
            "          C2       0.54      0.55      0.54       165\n",
            "\n",
            "    accuracy                           0.45       960\n",
            "   macro avg       0.45      0.45      0.45       960\n",
            "weighted avg       0.45      0.45      0.45       960\n",
            "\n"
          ]
        }
      ]
    },
    {
      "cell_type": "markdown",
      "source": [
        "**Hyperparameter Optimization**"
      ],
      "metadata": {
        "id": "ETsYdjQ3Qish"
      }
    },
    {
      "cell_type": "code",
      "source": [
        "# Setup GridSearchCV\n",
        "svm_param_grid = {'C': [0.1, 1, 10, 100]}\n",
        "\n",
        "# Create the GridSearchCV object\n",
        "svm_grid = GridSearchCV(svm_model, svm_param_grid, cv=5, verbose=1, n_jobs=-1)\n",
        "\n",
        "# Perform the grid search\n",
        "svm_grid.fit(X_train, y_train)\n",
        "\n",
        "# Retrieve the best parameters and best score\n",
        "svm_best_params = svm_grid.best_params_\n",
        "svm_best_score = svm_grid.best_score_\n",
        "\n",
        "print(\"Best parameters:\", svm_best_params)\n",
        "print(\"Best cross-validation score: {:.2f}\".format(svm_best_score))"
      ],
      "metadata": {
        "id": "hNKJe4VlQizr",
        "colab": {
          "base_uri": "https://localhost:8080/"
        },
        "outputId": "3c2e3299-c629-4d3e-f5fa-d3dd6f590dc1"
      },
      "execution_count": 25,
      "outputs": [
        {
          "output_type": "stream",
          "name": "stdout",
          "text": [
            "Fitting 5 folds for each of 4 candidates, totalling 20 fits\n",
            "Best parameters: {'C': 1}\n",
            "Best cross-validation score: 0.45\n"
          ]
        }
      ]
    },
    {
      "cell_type": "markdown",
      "source": [
        "**Use optimized parameters**"
      ],
      "metadata": {
        "id": "YCg-6lycQi9Z"
      }
    },
    {
      "cell_type": "code",
      "source": [
        "y_pred_best_svm = svm_grid.predict(X_test)\n",
        "best_svm_report = classification_report(y_test, y_pred_best_svm)\n",
        "print(best_svm_report)"
      ],
      "metadata": {
        "id": "zAPpQH0SQjEC",
        "colab": {
          "base_uri": "https://localhost:8080/"
        },
        "outputId": "fd622a6f-cbf0-4584-8cbc-4e6c948194dd"
      },
      "execution_count": 26,
      "outputs": [
        {
          "output_type": "stream",
          "name": "stdout",
          "text": [
            "              precision    recall  f1-score   support\n",
            "\n",
            "          A1       0.53      0.64      0.58       166\n",
            "          A2       0.34      0.35      0.35       158\n",
            "          B1       0.40      0.31      0.35       166\n",
            "          B2       0.44      0.43      0.44       153\n",
            "          C1       0.44      0.45      0.44       152\n",
            "          C2       0.54      0.55      0.54       165\n",
            "\n",
            "    accuracy                           0.45       960\n",
            "   macro avg       0.45      0.45      0.45       960\n",
            "weighted avg       0.45      0.45      0.45       960\n",
            "\n"
          ]
        }
      ]
    },
    {
      "cell_type": "markdown",
      "source": [
        "## Naive Bayes (45%)"
      ],
      "metadata": {
        "id": "4pj0VI19FHA2"
      }
    },
    {
      "cell_type": "markdown",
      "source": [
        "**Use default parameters**"
      ],
      "metadata": {
        "id": "RTjKQ1NBT1UW"
      }
    },
    {
      "cell_type": "code",
      "source": [
        "# Initialize the NB model\n",
        "nb_model = MultinomialNB()\n",
        "\n",
        "# Train the model on the training set\n",
        "nb_model.fit(X_train, y_train)\n",
        "\n",
        "# Predict on the validation set\n",
        "y_pred_nb = nb_model.predict(X_test)\n",
        "\n",
        "# Evaluate the model\n",
        "nb_report = classification_report(y_test, y_pred_nb)\n",
        "print(nb_report)"
      ],
      "metadata": {
        "id": "LkIl9U3uL2pL",
        "colab": {
          "base_uri": "https://localhost:8080/"
        },
        "outputId": "278f2ed9-3fac-4b06-ae91-9d74cc04f7b6"
      },
      "execution_count": 27,
      "outputs": [
        {
          "output_type": "stream",
          "name": "stdout",
          "text": [
            "              precision    recall  f1-score   support\n",
            "\n",
            "          A1       0.60      0.51      0.55       166\n",
            "          A2       0.35      0.49      0.41       158\n",
            "          B1       0.37      0.37      0.37       166\n",
            "          B2       0.54      0.33      0.41       153\n",
            "          C1       0.46      0.39      0.43       152\n",
            "          C2       0.48      0.59      0.53       165\n",
            "\n",
            "    accuracy                           0.45       960\n",
            "   macro avg       0.46      0.45      0.45       960\n",
            "weighted avg       0.47      0.45      0.45       960\n",
            "\n"
          ]
        }
      ]
    },
    {
      "cell_type": "markdown",
      "source": [
        "**Hyperparameter Optimization**"
      ],
      "metadata": {
        "id": "mu5ACAl6T3rl"
      }
    },
    {
      "cell_type": "code",
      "source": [
        "# Setup GridSearchCV\n",
        "nb_param_grid = {'alpha': [0.01, 0.1, 1, 10, 100]}\n",
        "\n",
        "# Create the GridSearchCV object\n",
        "nb_grid = GridSearchCV(nb_model, nb_param_grid, cv=5, verbose=1, n_jobs=-1)\n",
        "\n",
        "# Perform the grid search\n",
        "nb_grid.fit(X_train, y_train)\n",
        "\n",
        "# Retrieve the best parameters and best score\n",
        "nb_best_params = nb_grid.best_params_\n",
        "nb_best_score = nb_grid.best_score_\n",
        "\n",
        "print(\"Best parameters:\", nb_best_params)\n",
        "print(\"Best cross-validation score: {:.2f}\".format(nb_best_score))"
      ],
      "metadata": {
        "id": "rWb3MH7wT3zF",
        "colab": {
          "base_uri": "https://localhost:8080/"
        },
        "outputId": "5f78b7a0-81f7-4d8a-dd3c-23b2994b5fed"
      },
      "execution_count": 28,
      "outputs": [
        {
          "output_type": "stream",
          "name": "stdout",
          "text": [
            "Fitting 5 folds for each of 5 candidates, totalling 25 fits\n",
            "Best parameters: {'alpha': 1}\n",
            "Best cross-validation score: 0.44\n"
          ]
        }
      ]
    },
    {
      "cell_type": "markdown",
      "source": [
        "**Use optimized parameters**"
      ],
      "metadata": {
        "id": "j2-Ez0cET3_Y"
      }
    },
    {
      "cell_type": "code",
      "source": [
        "y_pred_best_nb = nb_grid.predict(X_test)\n",
        "best_nb_report = classification_report(y_test, y_pred_best_nb)\n",
        "print(best_nb_report)"
      ],
      "metadata": {
        "id": "ZR8SivBOT4Fk",
        "colab": {
          "base_uri": "https://localhost:8080/"
        },
        "outputId": "07fbbd59-a830-4602-a4ad-c207b575dcdb"
      },
      "execution_count": 29,
      "outputs": [
        {
          "output_type": "stream",
          "name": "stdout",
          "text": [
            "              precision    recall  f1-score   support\n",
            "\n",
            "          A1       0.60      0.51      0.55       166\n",
            "          A2       0.35      0.49      0.41       158\n",
            "          B1       0.37      0.37      0.37       166\n",
            "          B2       0.54      0.33      0.41       153\n",
            "          C1       0.46      0.39      0.43       152\n",
            "          C2       0.48      0.59      0.53       165\n",
            "\n",
            "    accuracy                           0.45       960\n",
            "   macro avg       0.46      0.45      0.45       960\n",
            "weighted avg       0.47      0.45      0.45       960\n",
            "\n"
          ]
        }
      ]
    },
    {
      "cell_type": "markdown",
      "source": [
        "## Gradient Boosting Machines (GBM) (39%)"
      ],
      "metadata": {
        "id": "qSgyrvnSL7Sl"
      }
    },
    {
      "cell_type": "markdown",
      "source": [
        "**Use default parameters**"
      ],
      "metadata": {
        "id": "f3CgEJXBZ7L-"
      }
    },
    {
      "cell_type": "code",
      "source": [
        "# Initialize the GBM model\n",
        "gbm_model = GradientBoostingClassifier(random_state=42)\n",
        "\n",
        "# Train the model on the training set\n",
        "gbm_model.fit(X_train, y_train)\n",
        "\n",
        "# Predict on the validation set\n",
        "y_pred_gbm = gbm_model.predict(X_test)\n",
        "\n",
        "# Evaluate the model\n",
        "gbm_report = classification_report(y_test, y_pred_gbm)\n",
        "print(gbm_report)"
      ],
      "metadata": {
        "id": "k7yfYGUPL7Yl",
        "colab": {
          "base_uri": "https://localhost:8080/"
        },
        "outputId": "d864a50f-b7fd-4c2d-a93e-e1eaf0bf5480"
      },
      "execution_count": 30,
      "outputs": [
        {
          "output_type": "stream",
          "name": "stdout",
          "text": [
            "              precision    recall  f1-score   support\n",
            "\n",
            "          A1       0.46      0.60      0.52       166\n",
            "          A2       0.32      0.30      0.31       158\n",
            "          B1       0.34      0.29      0.31       166\n",
            "          B2       0.38      0.36      0.37       153\n",
            "          C1       0.36      0.38      0.37       152\n",
            "          C2       0.49      0.44      0.46       165\n",
            "\n",
            "    accuracy                           0.40       960\n",
            "   macro avg       0.39      0.39      0.39       960\n",
            "weighted avg       0.39      0.40      0.39       960\n",
            "\n"
          ]
        }
      ]
    },
    {
      "cell_type": "markdown",
      "source": [
        "**Hyperparameter Optimization**"
      ],
      "metadata": {
        "id": "xjsqnzcuZ9Dp"
      }
    },
    {
      "cell_type": "code",
      "source": [
        "# Setup GridSearchCV\n",
        "gbm_param_grid = {\n",
        "    'n_estimators': [100, 200, 300],\n",
        "    'learning_rate': [0.01, 0.1, 0.2],\n",
        "    'max_depth': [3, 5, 7],\n",
        "    'min_samples_split': [2, 5],\n",
        "    'min_samples_leaf': [1, 2]\n",
        "}\n",
        "\n",
        "# Create the GridSearchCV object\n",
        "gbm_grid = GridSearchCV(gbm_model, gbm_param_grid, cv=5, verbose=1, n_jobs=-1)\n",
        "\n",
        "# Perform the grid search\n",
        "gbm_grid.fit(X_train, y_train)\n",
        "\n",
        "# Retrieve the best parameters and score\n",
        "gbm_best_params = gbm_grid.best_params_\n",
        "gbm_best_score = gbm_grid.best_score_\n",
        "\n",
        "print(\"Best parameters:\", gbm_best_params)\n",
        "print(\"Best cross-validation score:\", gbm_best_score)"
      ],
      "metadata": {
        "id": "EmSLmpBTZ9KB",
        "colab": {
          "base_uri": "https://localhost:8080/",
          "height": 373
        },
        "outputId": "189b24ee-ec96-45d6-916d-f8fb727d3c4d"
      },
      "execution_count": 31,
      "outputs": [
        {
          "output_type": "stream",
          "name": "stdout",
          "text": [
            "Fitting 5 folds for each of 108 candidates, totalling 540 fits\n"
          ]
        },
        {
          "output_type": "error",
          "ename": "KeyboardInterrupt",
          "evalue": "",
          "traceback": [
            "\u001b[0;31m---------------------------------------------------------------------------\u001b[0m",
            "\u001b[0;31mKeyboardInterrupt\u001b[0m                         Traceback (most recent call last)",
            "\u001b[0;32m<ipython-input-31-c78d077d8701>\u001b[0m in \u001b[0;36m<cell line: 14>\u001b[0;34m()\u001b[0m\n\u001b[1;32m     12\u001b[0m \u001b[0;34m\u001b[0m\u001b[0m\n\u001b[1;32m     13\u001b[0m \u001b[0;31m# Perform the grid search\u001b[0m\u001b[0;34m\u001b[0m\u001b[0;34m\u001b[0m\u001b[0m\n\u001b[0;32m---> 14\u001b[0;31m \u001b[0mgbm_grid\u001b[0m\u001b[0;34m.\u001b[0m\u001b[0mfit\u001b[0m\u001b[0;34m(\u001b[0m\u001b[0mX_train\u001b[0m\u001b[0;34m,\u001b[0m \u001b[0my_train\u001b[0m\u001b[0;34m)\u001b[0m\u001b[0;34m\u001b[0m\u001b[0;34m\u001b[0m\u001b[0m\n\u001b[0m\u001b[1;32m     15\u001b[0m \u001b[0;34m\u001b[0m\u001b[0m\n\u001b[1;32m     16\u001b[0m \u001b[0;31m# Retrieve the best parameters and score\u001b[0m\u001b[0;34m\u001b[0m\u001b[0;34m\u001b[0m\u001b[0m\n",
            "\u001b[0;32m/usr/local/lib/python3.10/dist-packages/sklearn/model_selection/_search.py\u001b[0m in \u001b[0;36mfit\u001b[0;34m(self, X, y, groups, **fit_params)\u001b[0m\n\u001b[1;32m    872\u001b[0m                 \u001b[0;32mreturn\u001b[0m \u001b[0mresults\u001b[0m\u001b[0;34m\u001b[0m\u001b[0;34m\u001b[0m\u001b[0m\n\u001b[1;32m    873\u001b[0m \u001b[0;34m\u001b[0m\u001b[0m\n\u001b[0;32m--> 874\u001b[0;31m             \u001b[0mself\u001b[0m\u001b[0;34m.\u001b[0m\u001b[0m_run_search\u001b[0m\u001b[0;34m(\u001b[0m\u001b[0mevaluate_candidates\u001b[0m\u001b[0;34m)\u001b[0m\u001b[0;34m\u001b[0m\u001b[0;34m\u001b[0m\u001b[0m\n\u001b[0m\u001b[1;32m    875\u001b[0m \u001b[0;34m\u001b[0m\u001b[0m\n\u001b[1;32m    876\u001b[0m             \u001b[0;31m# multimetric is determined here because in the case of a callable\u001b[0m\u001b[0;34m\u001b[0m\u001b[0;34m\u001b[0m\u001b[0m\n",
            "\u001b[0;32m/usr/local/lib/python3.10/dist-packages/sklearn/model_selection/_search.py\u001b[0m in \u001b[0;36m_run_search\u001b[0;34m(self, evaluate_candidates)\u001b[0m\n\u001b[1;32m   1386\u001b[0m     \u001b[0;32mdef\u001b[0m \u001b[0m_run_search\u001b[0m\u001b[0;34m(\u001b[0m\u001b[0mself\u001b[0m\u001b[0;34m,\u001b[0m \u001b[0mevaluate_candidates\u001b[0m\u001b[0;34m)\u001b[0m\u001b[0;34m:\u001b[0m\u001b[0;34m\u001b[0m\u001b[0;34m\u001b[0m\u001b[0m\n\u001b[1;32m   1387\u001b[0m         \u001b[0;34m\"\"\"Search all candidates in param_grid\"\"\"\u001b[0m\u001b[0;34m\u001b[0m\u001b[0;34m\u001b[0m\u001b[0m\n\u001b[0;32m-> 1388\u001b[0;31m         \u001b[0mevaluate_candidates\u001b[0m\u001b[0;34m(\u001b[0m\u001b[0mParameterGrid\u001b[0m\u001b[0;34m(\u001b[0m\u001b[0mself\u001b[0m\u001b[0;34m.\u001b[0m\u001b[0mparam_grid\u001b[0m\u001b[0;34m)\u001b[0m\u001b[0;34m)\u001b[0m\u001b[0;34m\u001b[0m\u001b[0;34m\u001b[0m\u001b[0m\n\u001b[0m\u001b[1;32m   1389\u001b[0m \u001b[0;34m\u001b[0m\u001b[0m\n\u001b[1;32m   1390\u001b[0m \u001b[0;34m\u001b[0m\u001b[0m\n",
            "\u001b[0;32m/usr/local/lib/python3.10/dist-packages/sklearn/model_selection/_search.py\u001b[0m in \u001b[0;36mevaluate_candidates\u001b[0;34m(candidate_params, cv, more_results)\u001b[0m\n\u001b[1;32m    819\u001b[0m                     )\n\u001b[1;32m    820\u001b[0m \u001b[0;34m\u001b[0m\u001b[0m\n\u001b[0;32m--> 821\u001b[0;31m                 out = parallel(\n\u001b[0m\u001b[1;32m    822\u001b[0m                     delayed(_fit_and_score)(\n\u001b[1;32m    823\u001b[0m                         \u001b[0mclone\u001b[0m\u001b[0;34m(\u001b[0m\u001b[0mbase_estimator\u001b[0m\u001b[0;34m)\u001b[0m\u001b[0;34m,\u001b[0m\u001b[0;34m\u001b[0m\u001b[0;34m\u001b[0m\u001b[0m\n",
            "\u001b[0;32m/usr/local/lib/python3.10/dist-packages/sklearn/utils/parallel.py\u001b[0m in \u001b[0;36m__call__\u001b[0;34m(self, iterable)\u001b[0m\n\u001b[1;32m     61\u001b[0m             \u001b[0;32mfor\u001b[0m \u001b[0mdelayed_func\u001b[0m\u001b[0;34m,\u001b[0m \u001b[0margs\u001b[0m\u001b[0;34m,\u001b[0m \u001b[0mkwargs\u001b[0m \u001b[0;32min\u001b[0m \u001b[0miterable\u001b[0m\u001b[0;34m\u001b[0m\u001b[0;34m\u001b[0m\u001b[0m\n\u001b[1;32m     62\u001b[0m         )\n\u001b[0;32m---> 63\u001b[0;31m         \u001b[0;32mreturn\u001b[0m \u001b[0msuper\u001b[0m\u001b[0;34m(\u001b[0m\u001b[0;34m)\u001b[0m\u001b[0;34m.\u001b[0m\u001b[0m__call__\u001b[0m\u001b[0;34m(\u001b[0m\u001b[0miterable_with_config\u001b[0m\u001b[0;34m)\u001b[0m\u001b[0;34m\u001b[0m\u001b[0;34m\u001b[0m\u001b[0m\n\u001b[0m\u001b[1;32m     64\u001b[0m \u001b[0;34m\u001b[0m\u001b[0m\n\u001b[1;32m     65\u001b[0m \u001b[0;34m\u001b[0m\u001b[0m\n",
            "\u001b[0;32m/usr/local/lib/python3.10/dist-packages/joblib/parallel.py\u001b[0m in \u001b[0;36m__call__\u001b[0;34m(self, iterable)\u001b[0m\n\u001b[1;32m   2005\u001b[0m         \u001b[0mnext\u001b[0m\u001b[0;34m(\u001b[0m\u001b[0moutput\u001b[0m\u001b[0;34m)\u001b[0m\u001b[0;34m\u001b[0m\u001b[0;34m\u001b[0m\u001b[0m\n\u001b[1;32m   2006\u001b[0m \u001b[0;34m\u001b[0m\u001b[0m\n\u001b[0;32m-> 2007\u001b[0;31m         \u001b[0;32mreturn\u001b[0m \u001b[0moutput\u001b[0m \u001b[0;32mif\u001b[0m \u001b[0mself\u001b[0m\u001b[0;34m.\u001b[0m\u001b[0mreturn_generator\u001b[0m \u001b[0;32melse\u001b[0m \u001b[0mlist\u001b[0m\u001b[0;34m(\u001b[0m\u001b[0moutput\u001b[0m\u001b[0;34m)\u001b[0m\u001b[0;34m\u001b[0m\u001b[0;34m\u001b[0m\u001b[0m\n\u001b[0m\u001b[1;32m   2008\u001b[0m \u001b[0;34m\u001b[0m\u001b[0m\n\u001b[1;32m   2009\u001b[0m     \u001b[0;32mdef\u001b[0m \u001b[0m__repr__\u001b[0m\u001b[0;34m(\u001b[0m\u001b[0mself\u001b[0m\u001b[0;34m)\u001b[0m\u001b[0;34m:\u001b[0m\u001b[0;34m\u001b[0m\u001b[0;34m\u001b[0m\u001b[0m\n",
            "\u001b[0;32m/usr/local/lib/python3.10/dist-packages/joblib/parallel.py\u001b[0m in \u001b[0;36m_get_outputs\u001b[0;34m(self, iterator, pre_dispatch)\u001b[0m\n\u001b[1;32m   1648\u001b[0m \u001b[0;34m\u001b[0m\u001b[0m\n\u001b[1;32m   1649\u001b[0m             \u001b[0;32mwith\u001b[0m \u001b[0mself\u001b[0m\u001b[0;34m.\u001b[0m\u001b[0m_backend\u001b[0m\u001b[0;34m.\u001b[0m\u001b[0mretrieval_context\u001b[0m\u001b[0;34m(\u001b[0m\u001b[0;34m)\u001b[0m\u001b[0;34m:\u001b[0m\u001b[0;34m\u001b[0m\u001b[0;34m\u001b[0m\u001b[0m\n\u001b[0;32m-> 1650\u001b[0;31m                 \u001b[0;32myield\u001b[0m \u001b[0;32mfrom\u001b[0m \u001b[0mself\u001b[0m\u001b[0;34m.\u001b[0m\u001b[0m_retrieve\u001b[0m\u001b[0;34m(\u001b[0m\u001b[0;34m)\u001b[0m\u001b[0;34m\u001b[0m\u001b[0;34m\u001b[0m\u001b[0m\n\u001b[0m\u001b[1;32m   1651\u001b[0m \u001b[0;34m\u001b[0m\u001b[0m\n\u001b[1;32m   1652\u001b[0m         \u001b[0;32mexcept\u001b[0m \u001b[0mGeneratorExit\u001b[0m\u001b[0;34m:\u001b[0m\u001b[0;34m\u001b[0m\u001b[0;34m\u001b[0m\u001b[0m\n",
            "\u001b[0;32m/usr/local/lib/python3.10/dist-packages/joblib/parallel.py\u001b[0m in \u001b[0;36m_retrieve\u001b[0;34m(self)\u001b[0m\n\u001b[1;32m   1760\u001b[0m                 (self._jobs[0].get_status(\n\u001b[1;32m   1761\u001b[0m                     timeout=self.timeout) == TASK_PENDING)):\n\u001b[0;32m-> 1762\u001b[0;31m                 \u001b[0mtime\u001b[0m\u001b[0;34m.\u001b[0m\u001b[0msleep\u001b[0m\u001b[0;34m(\u001b[0m\u001b[0;36m0.01\u001b[0m\u001b[0;34m)\u001b[0m\u001b[0;34m\u001b[0m\u001b[0;34m\u001b[0m\u001b[0m\n\u001b[0m\u001b[1;32m   1763\u001b[0m                 \u001b[0;32mcontinue\u001b[0m\u001b[0;34m\u001b[0m\u001b[0;34m\u001b[0m\u001b[0m\n\u001b[1;32m   1764\u001b[0m \u001b[0;34m\u001b[0m\u001b[0m\n",
            "\u001b[0;31mKeyboardInterrupt\u001b[0m: "
          ]
        }
      ]
    },
    {
      "cell_type": "markdown",
      "source": [
        "**Use optimized parameters**"
      ],
      "metadata": {
        "id": "AnNfdy0ca-9k"
      }
    },
    {
      "cell_type": "code",
      "source": [
        "# Evaluate the best model on the test set\n",
        "best_gbm = gbm_grid.best_estimator_\n",
        "y_pred_best_gbm = best_gbm.predict(X_test)\n",
        "best_gbm_report = classification_report(y_test, y_pred_best_gbm)\n",
        "print(best_gbm_report)"
      ],
      "metadata": {
        "id": "joqeJNuAa-VN"
      },
      "execution_count": null,
      "outputs": []
    },
    {
      "cell_type": "markdown",
      "source": [
        "## Neural Networks (48%)"
      ],
      "metadata": {
        "id": "4dN-6xbIL7E4"
      }
    },
    {
      "cell_type": "markdown",
      "source": [
        "**Baseline (V1)**"
      ],
      "metadata": {
        "id": "VVrNA4BzUvbP"
      }
    },
    {
      "cell_type": "code",
      "source": [
        "# Encode labels\n",
        "label_encoder = LabelEncoder()\n",
        "encoded_labels = label_encoder.fit_transform(training_data['difficulty'])\n",
        "\n",
        "# Split data into training and validation\n",
        "X_train_raw, X_test_raw, y_train, y_test = train_test_split(training_data['sentence'], encoded_labels, test_size=0.2, random_state=42)\n",
        "\n",
        "# Initialize a TF-IDF Vectorizer\n",
        "tfidf_vectorizer = TfidfVectorizer()\n",
        "X_train_tfidf = tfidf_vectorizer.fit_transform(X_train_raw)\n",
        "X_test_tfidf = tfidf_vectorizer.transform(X_test_raw)\n",
        "\n",
        "# Convert sparse matrix to dense array\n",
        "X_train_dense = X_train_tfidf.toarray()\n",
        "X_test_dense = X_test_tfidf.toarray()\n",
        "\n",
        "# Neural Network Model\n",
        "nn_model = Sequential([\n",
        "    Dense(128, activation='relu', input_dim=X_train_dense.shape[1]),\n",
        "    Dropout(0.5),\n",
        "    Dense(64, activation='relu'),\n",
        "    Dense(len(np.unique(y_train)), activation='softmax')  # Number of classes\n",
        "])\n",
        "\n",
        "# Compile the model\n",
        "nn_model.compile(optimizer='adam', loss='sparse_categorical_crossentropy', metrics=['accuracy'])\n",
        "\n",
        "# Train the model\n",
        "history = nn_model.fit(X_train_dense, y_train, epochs=10, batch_size=32, validation_data=(X_test_dense, y_test))\n",
        "\n",
        "# Evaluate the model\n",
        "loss, accuracy = nn_model.evaluate(X_test_dense, y_test)\n",
        "print(f\"Validation accuracy: {accuracy:.2f}\")"
      ],
      "metadata": {
        "id": "TOqzgJvDL7LU",
        "colab": {
          "base_uri": "https://localhost:8080/"
        },
        "outputId": "50a18304-dcb2-478b-e60e-cc8ac82d315e"
      },
      "execution_count": 71,
      "outputs": [
        {
          "output_type": "stream",
          "name": "stdout",
          "text": [
            "Epoch 1/10\n",
            "120/120 [==============================] - 2s 6ms/step - loss: 1.7289 - accuracy: 0.2552 - val_loss: 1.5088 - val_accuracy: 0.3500\n",
            "Epoch 2/10\n",
            "120/120 [==============================] - 0s 4ms/step - loss: 1.2980 - accuracy: 0.4815 - val_loss: 1.2683 - val_accuracy: 0.4542\n",
            "Epoch 3/10\n",
            "120/120 [==============================] - 0s 4ms/step - loss: 0.8436 - accuracy: 0.7263 - val_loss: 1.2259 - val_accuracy: 0.4812\n",
            "Epoch 4/10\n",
            "120/120 [==============================] - 0s 4ms/step - loss: 0.4660 - accuracy: 0.8708 - val_loss: 1.3161 - val_accuracy: 0.4896\n",
            "Epoch 5/10\n",
            "120/120 [==============================] - 0s 4ms/step - loss: 0.2585 - accuracy: 0.9299 - val_loss: 1.4640 - val_accuracy: 0.4792\n",
            "Epoch 6/10\n",
            "120/120 [==============================] - 0s 4ms/step - loss: 0.1660 - accuracy: 0.9555 - val_loss: 1.5797 - val_accuracy: 0.4833\n",
            "Epoch 7/10\n",
            "120/120 [==============================] - 0s 4ms/step - loss: 0.1108 - accuracy: 0.9737 - val_loss: 1.7076 - val_accuracy: 0.4604\n",
            "Epoch 8/10\n",
            "120/120 [==============================] - 0s 4ms/step - loss: 0.0802 - accuracy: 0.9815 - val_loss: 1.8247 - val_accuracy: 0.4729\n",
            "Epoch 9/10\n",
            "120/120 [==============================] - 0s 4ms/step - loss: 0.0590 - accuracy: 0.9854 - val_loss: 1.9194 - val_accuracy: 0.4635\n",
            "Epoch 10/10\n",
            "120/120 [==============================] - 0s 3ms/step - loss: 0.0466 - accuracy: 0.9888 - val_loss: 1.9897 - val_accuracy: 0.4677\n",
            "30/30 [==============================] - 0s 2ms/step - loss: 1.9897 - accuracy: 0.4677\n",
            "Validation accuracy: 0.47\n"
          ]
        }
      ]
    },
    {
      "cell_type": "code",
      "source": [
        "# Predict using the trained neural network model on validation set\n",
        "y_pred_nn = nn_model.predict(X_test_dense)\n",
        "y_pred_nn_labels = np.argmax(y_pred_nn, axis=1)  # Get the index of the max value in predictions"
      ],
      "metadata": {
        "id": "3W-06gS0DMmD",
        "colab": {
          "base_uri": "https://localhost:8080/"
        },
        "outputId": "ad1e0b2a-bac3-4d90-c9c2-3cc2b791e2b5"
      },
      "execution_count": 72,
      "outputs": [
        {
          "output_type": "stream",
          "name": "stdout",
          "text": [
            "30/30 [==============================] - 0s 2ms/step\n"
          ]
        }
      ]
    },
    {
      "cell_type": "markdown",
      "source": [
        "**Hyperparameter optimization (V2)**"
      ],
      "metadata": {
        "id": "-cLRwyS7UxZm"
      }
    },
    {
      "cell_type": "code",
      "source": [
        "# Function to build the model based on hyperparameters\n",
        "def build_model(hp):\n",
        "    model = Sequential()\n",
        "    model.add(Dense(units=hp.Int('units1', min_value=32, max_value=512, step=32),\n",
        "                    activation='relu', input_dim=X_train_dense.shape[1]))\n",
        "    model.add(Dropout(rate=hp.Float('dropout1', min_value=0.0, max_value=0.5, step=0.1)))\n",
        "    model.add(Dense(units=hp.Int('units2', min_value=32, max_value=512, step=32),\n",
        "                    activation='relu'))\n",
        "    model.add(Dense(len(np.unique(y_train)), activation='softmax'))  # Number of classes\n",
        "    model.compile(optimizer=keras.optimizers.Adam(\n",
        "        hp.Float('learning_rate', min_value=1e-4, max_value=1e-2, sampling='LOG')),\n",
        "        loss='sparse_categorical_crossentropy',\n",
        "        metrics=['accuracy'])\n",
        "    return model\n",
        "\n",
        "# Initialize the tuner\n",
        "tuner = RandomSearch(\n",
        "    build_model,\n",
        "    objective='val_accuracy',\n",
        "    max_trials=10,\n",
        "    executions_per_trial=1,\n",
        "    directory='my_tuner_dir',\n",
        "    project_name='nn_tuning'\n",
        ")\n",
        "\n",
        "# Start the hyperparameter search\n",
        "tuner.search(X_train_dense, y_train, epochs=10, batch_size=32, validation_data=(X_test_dense, y_test))\n",
        "\n",
        "# Get the optimal hyperparameters\n",
        "best_hps = tuner.get_best_hyperparameters(num_trials=1)[0]\n",
        "\n",
        "print(f\"\"\"\n",
        "The optimal number of units in the first dense layer is {best_hps.get('units1')},\n",
        "the optimal dropout rate after the first dense layer is {best_hps.get('dropout1')},\n",
        "and the optimal learning rate for the optimizer is {best_hps.get('learning_rate')}.\n",
        "\"\"\")\n",
        "\n",
        "# Build the model with the best hyperparameters\n",
        "best_model = tuner.hypermodel.build(best_hps)\n",
        "best_model.fit(X_train_dense, y_train, epochs=5, validation_data=(X_test_dense, y_test))\n",
        "\n",
        "# Evaluate the best model\n",
        "best_loss, best_accuracy = best_model.evaluate(X_test_dense, y_test)\n",
        "print(f\"Optimized Validation Accuracy: {best_accuracy:.2f}\")"
      ],
      "metadata": {
        "id": "hqYRmZkGUugQ",
        "colab": {
          "base_uri": "https://localhost:8080/"
        },
        "outputId": "cfe2950f-2122-4df4-9eed-48f8cb33c48b"
      },
      "execution_count": 73,
      "outputs": [
        {
          "output_type": "stream",
          "name": "stdout",
          "text": [
            "Reloading Tuner from my_tuner_dir/nn_tuning/tuner0.json\n",
            "\n",
            "The optimal number of units in the first dense layer is 128,\n",
            "the optimal dropout rate after the first dense layer is 0.1,\n",
            "and the optimal learning rate for the optimizer is 0.00027686747340057404.\n",
            "\n",
            "Epoch 1/5\n",
            "120/120 [==============================] - 2s 5ms/step - loss: 1.7796 - accuracy: 0.2237 - val_loss: 1.7159 - val_accuracy: 0.3417\n",
            "Epoch 2/5\n",
            "120/120 [==============================] - 0s 3ms/step - loss: 1.4695 - accuracy: 0.4216 - val_loss: 1.3408 - val_accuracy: 0.4021\n",
            "Epoch 3/5\n",
            "120/120 [==============================] - 0s 4ms/step - loss: 1.0728 - accuracy: 0.6497 - val_loss: 1.2380 - val_accuracy: 0.4729\n",
            "Epoch 4/5\n",
            "120/120 [==============================] - 0s 3ms/step - loss: 0.6830 - accuracy: 0.8435 - val_loss: 1.2196 - val_accuracy: 0.4906\n",
            "Epoch 5/5\n",
            "120/120 [==============================] - 0s 4ms/step - loss: 0.3861 - accuracy: 0.9182 - val_loss: 1.2686 - val_accuracy: 0.4969\n",
            "30/30 [==============================] - 0s 2ms/step - loss: 1.2686 - accuracy: 0.4969\n",
            "Optimized Validation Accuracy: 0.50\n"
          ]
        }
      ]
    },
    {
      "cell_type": "code",
      "source": [
        "# Predict using the trained neural network model on validation set\n",
        "y_pred_best_nn = best_model.predict(X_test_dense)\n",
        "y_pred_best_nn_labels = np.argmax(y_pred_best_nn, axis=1)"
      ],
      "metadata": {
        "id": "3PVK1xOC0KQ-",
        "colab": {
          "base_uri": "https://localhost:8080/"
        },
        "outputId": "cecb3bd0-e72d-4b06-d2fb-d0f98babeebe"
      },
      "execution_count": 74,
      "outputs": [
        {
          "output_type": "stream",
          "name": "stdout",
          "text": [
            "30/30 [==============================] - 0s 2ms/step\n"
          ]
        }
      ]
    },
    {
      "cell_type": "markdown",
      "source": [
        "## Comparison"
      ],
      "metadata": {
        "id": "QmS6aZLFxShP"
      }
    },
    {
      "cell_type": "code",
      "source": [
        "# Decode y_test and y_pred labels back to original labels for comparison\n",
        "y_test_actual_labels = label_encoder.inverse_transform(y_test)\n",
        "y_pred_test_actual_labels_decoded = label_encoder.inverse_transform(y_pred_best_nn_labels)\n",
        "\n",
        "# Initialize dictionary to store metrics\n",
        "metrics_dict = {\n",
        "    'Model': [],\n",
        "    'Precision': [],\n",
        "    'Recall': [],\n",
        "    'F1-Score': [],\n",
        "    'Accuracy': []\n",
        "}\n",
        "\n",
        "# Function to calculate metrics and update the dictionary\n",
        "def update_metrics_dict(model_name, y_true, y_pred):\n",
        "    metrics_dict['Model'].append(model_name)\n",
        "    metrics_dict['Precision'].append(precision_score(y_true, y_pred, average='weighted'))\n",
        "    metrics_dict['Recall'].append(recall_score(y_true, y_pred, average='weighted'))\n",
        "    metrics_dict['F1-Score'].append(f1_score(y_true, y_pred, average='weighted'))\n",
        "    metrics_dict['Accuracy'].append(accuracy_score(y_true, y_pred))\n",
        "\n",
        "# Collect metrics for each model\n",
        "update_metrics_dict('Logistic Regression', y_test_actual_labels, y_pred_best_lr)\n",
        "update_metrics_dict('KNN', y_test_actual_labels, y_pred_best_knn)\n",
        "update_metrics_dict('Decision Tree', y_test_actual_labels, y_pred_best_dt)\n",
        "update_metrics_dict('Random Forest', y_test_actual_labels, y_pred_best_rf)\n",
        "update_metrics_dict('SVM', y_test_actual_labels, y_pred_best_svm)\n",
        "update_metrics_dict('Naive Bayes', y_test_actual_labels, y_pred_best_nb)\n",
        "update_metrics_dict('Gradient Boosting', y_test_actual_labels, y_pred_gbm)\n",
        "update_metrics_dict('Neural Network', y_test_actual_labels, y_pred_test_actual_labels_decoded)\n",
        "\n",
        "# Create DataFrame from the metrics dictionary\n",
        "metrics_df = pd.DataFrame(metrics_dict)\n",
        "metrics_df[['Precision', 'Recall', 'F1-Score', 'Accuracy']] = metrics_df[['Precision', 'Recall', 'F1-Score', 'Accuracy']] * 100\n",
        "metrics_df\n"
      ],
      "metadata": {
        "colab": {
          "base_uri": "https://localhost:8080/",
          "height": 300
        },
        "id": "3zdSDyjoDh_H",
        "outputId": "29fb1177-e057-422b-9c9f-9dba6b4a163c"
      },
      "execution_count": 79,
      "outputs": [
        {
          "output_type": "execute_result",
          "data": {
            "text/plain": [
              "                 Model  Precision     Recall   F1-Score   Accuracy\n",
              "0  Logistic Regression  45.893142  46.250000  45.806247  46.250000\n",
              "1                  KNN  37.880858  32.604167  30.745596  32.604167\n",
              "2        Decision Tree  29.076709  29.270833  28.810051  29.270833\n",
              "3        Random Forest  42.019818  41.875000  40.335759  41.875000\n",
              "4                  SVM  44.945986  45.416667  44.985009  45.416667\n",
              "5          Naive Bayes  46.500805  44.895833  44.849461  44.895833\n",
              "6    Gradient Boosting  39.231395  39.583333  39.191646  39.583333\n",
              "7       Neural Network  50.263339  49.687500  49.784899  49.687500"
            ],
            "text/html": [
              "\n",
              "  <div id=\"df-1b13e894-cf0e-45fd-8ac6-acac67a0b870\" class=\"colab-df-container\">\n",
              "    <div>\n",
              "<style scoped>\n",
              "    .dataframe tbody tr th:only-of-type {\n",
              "        vertical-align: middle;\n",
              "    }\n",
              "\n",
              "    .dataframe tbody tr th {\n",
              "        vertical-align: top;\n",
              "    }\n",
              "\n",
              "    .dataframe thead th {\n",
              "        text-align: right;\n",
              "    }\n",
              "</style>\n",
              "<table border=\"1\" class=\"dataframe\">\n",
              "  <thead>\n",
              "    <tr style=\"text-align: right;\">\n",
              "      <th></th>\n",
              "      <th>Model</th>\n",
              "      <th>Precision</th>\n",
              "      <th>Recall</th>\n",
              "      <th>F1-Score</th>\n",
              "      <th>Accuracy</th>\n",
              "    </tr>\n",
              "  </thead>\n",
              "  <tbody>\n",
              "    <tr>\n",
              "      <th>0</th>\n",
              "      <td>Logistic Regression</td>\n",
              "      <td>45.893142</td>\n",
              "      <td>46.250000</td>\n",
              "      <td>45.806247</td>\n",
              "      <td>46.250000</td>\n",
              "    </tr>\n",
              "    <tr>\n",
              "      <th>1</th>\n",
              "      <td>KNN</td>\n",
              "      <td>37.880858</td>\n",
              "      <td>32.604167</td>\n",
              "      <td>30.745596</td>\n",
              "      <td>32.604167</td>\n",
              "    </tr>\n",
              "    <tr>\n",
              "      <th>2</th>\n",
              "      <td>Decision Tree</td>\n",
              "      <td>29.076709</td>\n",
              "      <td>29.270833</td>\n",
              "      <td>28.810051</td>\n",
              "      <td>29.270833</td>\n",
              "    </tr>\n",
              "    <tr>\n",
              "      <th>3</th>\n",
              "      <td>Random Forest</td>\n",
              "      <td>42.019818</td>\n",
              "      <td>41.875000</td>\n",
              "      <td>40.335759</td>\n",
              "      <td>41.875000</td>\n",
              "    </tr>\n",
              "    <tr>\n",
              "      <th>4</th>\n",
              "      <td>SVM</td>\n",
              "      <td>44.945986</td>\n",
              "      <td>45.416667</td>\n",
              "      <td>44.985009</td>\n",
              "      <td>45.416667</td>\n",
              "    </tr>\n",
              "    <tr>\n",
              "      <th>5</th>\n",
              "      <td>Naive Bayes</td>\n",
              "      <td>46.500805</td>\n",
              "      <td>44.895833</td>\n",
              "      <td>44.849461</td>\n",
              "      <td>44.895833</td>\n",
              "    </tr>\n",
              "    <tr>\n",
              "      <th>6</th>\n",
              "      <td>Gradient Boosting</td>\n",
              "      <td>39.231395</td>\n",
              "      <td>39.583333</td>\n",
              "      <td>39.191646</td>\n",
              "      <td>39.583333</td>\n",
              "    </tr>\n",
              "    <tr>\n",
              "      <th>7</th>\n",
              "      <td>Neural Network</td>\n",
              "      <td>50.263339</td>\n",
              "      <td>49.687500</td>\n",
              "      <td>49.784899</td>\n",
              "      <td>49.687500</td>\n",
              "    </tr>\n",
              "  </tbody>\n",
              "</table>\n",
              "</div>\n",
              "    <div class=\"colab-df-buttons\">\n",
              "\n",
              "  <div class=\"colab-df-container\">\n",
              "    <button class=\"colab-df-convert\" onclick=\"convertToInteractive('df-1b13e894-cf0e-45fd-8ac6-acac67a0b870')\"\n",
              "            title=\"Convert this dataframe to an interactive table.\"\n",
              "            style=\"display:none;\">\n",
              "\n",
              "  <svg xmlns=\"http://www.w3.org/2000/svg\" height=\"24px\" viewBox=\"0 -960 960 960\">\n",
              "    <path d=\"M120-120v-720h720v720H120Zm60-500h600v-160H180v160Zm220 220h160v-160H400v160Zm0 220h160v-160H400v160ZM180-400h160v-160H180v160Zm440 0h160v-160H620v160ZM180-180h160v-160H180v160Zm440 0h160v-160H620v160Z\"/>\n",
              "  </svg>\n",
              "    </button>\n",
              "\n",
              "  <style>\n",
              "    .colab-df-container {\n",
              "      display:flex;\n",
              "      gap: 12px;\n",
              "    }\n",
              "\n",
              "    .colab-df-convert {\n",
              "      background-color: #E8F0FE;\n",
              "      border: none;\n",
              "      border-radius: 50%;\n",
              "      cursor: pointer;\n",
              "      display: none;\n",
              "      fill: #1967D2;\n",
              "      height: 32px;\n",
              "      padding: 0 0 0 0;\n",
              "      width: 32px;\n",
              "    }\n",
              "\n",
              "    .colab-df-convert:hover {\n",
              "      background-color: #E2EBFA;\n",
              "      box-shadow: 0px 1px 2px rgba(60, 64, 67, 0.3), 0px 1px 3px 1px rgba(60, 64, 67, 0.15);\n",
              "      fill: #174EA6;\n",
              "    }\n",
              "\n",
              "    .colab-df-buttons div {\n",
              "      margin-bottom: 4px;\n",
              "    }\n",
              "\n",
              "    [theme=dark] .colab-df-convert {\n",
              "      background-color: #3B4455;\n",
              "      fill: #D2E3FC;\n",
              "    }\n",
              "\n",
              "    [theme=dark] .colab-df-convert:hover {\n",
              "      background-color: #434B5C;\n",
              "      box-shadow: 0px 1px 3px 1px rgba(0, 0, 0, 0.15);\n",
              "      filter: drop-shadow(0px 1px 2px rgba(0, 0, 0, 0.3));\n",
              "      fill: #FFFFFF;\n",
              "    }\n",
              "  </style>\n",
              "\n",
              "    <script>\n",
              "      const buttonEl =\n",
              "        document.querySelector('#df-1b13e894-cf0e-45fd-8ac6-acac67a0b870 button.colab-df-convert');\n",
              "      buttonEl.style.display =\n",
              "        google.colab.kernel.accessAllowed ? 'block' : 'none';\n",
              "\n",
              "      async function convertToInteractive(key) {\n",
              "        const element = document.querySelector('#df-1b13e894-cf0e-45fd-8ac6-acac67a0b870');\n",
              "        const dataTable =\n",
              "          await google.colab.kernel.invokeFunction('convertToInteractive',\n",
              "                                                    [key], {});\n",
              "        if (!dataTable) return;\n",
              "\n",
              "        const docLinkHtml = 'Like what you see? Visit the ' +\n",
              "          '<a target=\"_blank\" href=https://colab.research.google.com/notebooks/data_table.ipynb>data table notebook</a>'\n",
              "          + ' to learn more about interactive tables.';\n",
              "        element.innerHTML = '';\n",
              "        dataTable['output_type'] = 'display_data';\n",
              "        await google.colab.output.renderOutput(dataTable, element);\n",
              "        const docLink = document.createElement('div');\n",
              "        docLink.innerHTML = docLinkHtml;\n",
              "        element.appendChild(docLink);\n",
              "      }\n",
              "    </script>\n",
              "  </div>\n",
              "\n",
              "\n",
              "<div id=\"df-82c94a6c-79e1-451f-ac8c-d8ab80f4e295\">\n",
              "  <button class=\"colab-df-quickchart\" onclick=\"quickchart('df-82c94a6c-79e1-451f-ac8c-d8ab80f4e295')\"\n",
              "            title=\"Suggest charts\"\n",
              "            style=\"display:none;\">\n",
              "\n",
              "<svg xmlns=\"http://www.w3.org/2000/svg\" height=\"24px\"viewBox=\"0 0 24 24\"\n",
              "     width=\"24px\">\n",
              "    <g>\n",
              "        <path d=\"M19 3H5c-1.1 0-2 .9-2 2v14c0 1.1.9 2 2 2h14c1.1 0 2-.9 2-2V5c0-1.1-.9-2-2-2zM9 17H7v-7h2v7zm4 0h-2V7h2v10zm4 0h-2v-4h2v4z\"/>\n",
              "    </g>\n",
              "</svg>\n",
              "  </button>\n",
              "\n",
              "<style>\n",
              "  .colab-df-quickchart {\n",
              "      --bg-color: #E8F0FE;\n",
              "      --fill-color: #1967D2;\n",
              "      --hover-bg-color: #E2EBFA;\n",
              "      --hover-fill-color: #174EA6;\n",
              "      --disabled-fill-color: #AAA;\n",
              "      --disabled-bg-color: #DDD;\n",
              "  }\n",
              "\n",
              "  [theme=dark] .colab-df-quickchart {\n",
              "      --bg-color: #3B4455;\n",
              "      --fill-color: #D2E3FC;\n",
              "      --hover-bg-color: #434B5C;\n",
              "      --hover-fill-color: #FFFFFF;\n",
              "      --disabled-bg-color: #3B4455;\n",
              "      --disabled-fill-color: #666;\n",
              "  }\n",
              "\n",
              "  .colab-df-quickchart {\n",
              "    background-color: var(--bg-color);\n",
              "    border: none;\n",
              "    border-radius: 50%;\n",
              "    cursor: pointer;\n",
              "    display: none;\n",
              "    fill: var(--fill-color);\n",
              "    height: 32px;\n",
              "    padding: 0;\n",
              "    width: 32px;\n",
              "  }\n",
              "\n",
              "  .colab-df-quickchart:hover {\n",
              "    background-color: var(--hover-bg-color);\n",
              "    box-shadow: 0 1px 2px rgba(60, 64, 67, 0.3), 0 1px 3px 1px rgba(60, 64, 67, 0.15);\n",
              "    fill: var(--button-hover-fill-color);\n",
              "  }\n",
              "\n",
              "  .colab-df-quickchart-complete:disabled,\n",
              "  .colab-df-quickchart-complete:disabled:hover {\n",
              "    background-color: var(--disabled-bg-color);\n",
              "    fill: var(--disabled-fill-color);\n",
              "    box-shadow: none;\n",
              "  }\n",
              "\n",
              "  .colab-df-spinner {\n",
              "    border: 2px solid var(--fill-color);\n",
              "    border-color: transparent;\n",
              "    border-bottom-color: var(--fill-color);\n",
              "    animation:\n",
              "      spin 1s steps(1) infinite;\n",
              "  }\n",
              "\n",
              "  @keyframes spin {\n",
              "    0% {\n",
              "      border-color: transparent;\n",
              "      border-bottom-color: var(--fill-color);\n",
              "      border-left-color: var(--fill-color);\n",
              "    }\n",
              "    20% {\n",
              "      border-color: transparent;\n",
              "      border-left-color: var(--fill-color);\n",
              "      border-top-color: var(--fill-color);\n",
              "    }\n",
              "    30% {\n",
              "      border-color: transparent;\n",
              "      border-left-color: var(--fill-color);\n",
              "      border-top-color: var(--fill-color);\n",
              "      border-right-color: var(--fill-color);\n",
              "    }\n",
              "    40% {\n",
              "      border-color: transparent;\n",
              "      border-right-color: var(--fill-color);\n",
              "      border-top-color: var(--fill-color);\n",
              "    }\n",
              "    60% {\n",
              "      border-color: transparent;\n",
              "      border-right-color: var(--fill-color);\n",
              "    }\n",
              "    80% {\n",
              "      border-color: transparent;\n",
              "      border-right-color: var(--fill-color);\n",
              "      border-bottom-color: var(--fill-color);\n",
              "    }\n",
              "    90% {\n",
              "      border-color: transparent;\n",
              "      border-bottom-color: var(--fill-color);\n",
              "    }\n",
              "  }\n",
              "</style>\n",
              "\n",
              "  <script>\n",
              "    async function quickchart(key) {\n",
              "      const quickchartButtonEl =\n",
              "        document.querySelector('#' + key + ' button');\n",
              "      quickchartButtonEl.disabled = true;  // To prevent multiple clicks.\n",
              "      quickchartButtonEl.classList.add('colab-df-spinner');\n",
              "      try {\n",
              "        const charts = await google.colab.kernel.invokeFunction(\n",
              "            'suggestCharts', [key], {});\n",
              "      } catch (error) {\n",
              "        console.error('Error during call to suggestCharts:', error);\n",
              "      }\n",
              "      quickchartButtonEl.classList.remove('colab-df-spinner');\n",
              "      quickchartButtonEl.classList.add('colab-df-quickchart-complete');\n",
              "    }\n",
              "    (() => {\n",
              "      let quickchartButtonEl =\n",
              "        document.querySelector('#df-82c94a6c-79e1-451f-ac8c-d8ab80f4e295 button');\n",
              "      quickchartButtonEl.style.display =\n",
              "        google.colab.kernel.accessAllowed ? 'block' : 'none';\n",
              "    })();\n",
              "  </script>\n",
              "</div>\n",
              "    </div>\n",
              "  </div>\n"
            ],
            "application/vnd.google.colaboratory.intrinsic+json": {
              "type": "dataframe",
              "variable_name": "metrics_df",
              "summary": "{\n  \"name\": \"metrics_df\",\n  \"rows\": 8,\n  \"fields\": [\n    {\n      \"column\": \"Model\",\n      \"properties\": {\n        \"dtype\": \"string\",\n        \"num_unique_values\": 8,\n        \"samples\": [\n          \"KNN\",\n          \"Naive Bayes\",\n          \"Logistic Regression\"\n        ],\n        \"semantic_type\": \"\",\n        \"description\": \"\"\n      }\n    },\n    {\n      \"column\": \"Precision\",\n      \"properties\": {\n        \"dtype\": \"number\",\n        \"std\": 6.590202080675896,\n        \"min\": 29.07670887813898,\n        \"max\": 50.26333877161095,\n        \"num_unique_values\": 8,\n        \"samples\": [\n          37.88085754861027,\n          46.50080486688204,\n          45.89314243845514\n        ],\n        \"semantic_type\": \"\",\n        \"description\": \"\"\n      }\n    },\n    {\n      \"column\": \"Recall\",\n      \"properties\": {\n        \"dtype\": \"number\",\n        \"std\": 7.053288873183306,\n        \"min\": 29.270833333333336,\n        \"max\": 49.6875,\n        \"num_unique_values\": 8,\n        \"samples\": [\n          32.604166666666664,\n          44.895833333333336,\n          46.25\n        ],\n        \"semantic_type\": \"\",\n        \"description\": \"\"\n      }\n    },\n    {\n      \"column\": \"F1-Score\",\n      \"properties\": {\n        \"dtype\": \"number\",\n        \"std\": 7.434556723211117,\n        \"min\": 28.810051458534343,\n        \"max\": 49.78489862004228,\n        \"num_unique_values\": 8,\n        \"samples\": [\n          30.745595996763114,\n          44.84946138208086,\n          45.80624703773571\n        ],\n        \"semantic_type\": \"\",\n        \"description\": \"\"\n      }\n    },\n    {\n      \"column\": \"Accuracy\",\n      \"properties\": {\n        \"dtype\": \"number\",\n        \"std\": 7.053288873183306,\n        \"min\": 29.270833333333336,\n        \"max\": 49.6875,\n        \"num_unique_values\": 8,\n        \"samples\": [\n          32.604166666666664,\n          44.895833333333336,\n          46.25\n        ],\n        \"semantic_type\": \"\",\n        \"description\": \"\"\n      }\n    }\n  ]\n}"
            }
          },
          "metadata": {},
          "execution_count": 79
        }
      ]
    },
    {
      "cell_type": "markdown",
      "source": [
        "## Further Analysis of NN"
      ],
      "metadata": {
        "id": "_zY4Sr7SMmNA"
      }
    },
    {
      "cell_type": "code",
      "source": [
        "# Generate the confusion matrix\n",
        "conf_matrix = confusion_matrix(y_test_actual_labels, y_pred_test_actual_labels_decoded)\n",
        "\n",
        "# Plot the confusion matrix\n",
        "plt.figure(figsize=(10, 7))\n",
        "sns.heatmap(conf_matrix, annot=True, fmt='d', cmap='Blues', xticklabels=label_encoder.classes_, yticklabels=label_encoder.classes_)\n",
        "plt.xlabel('Predicted')\n",
        "plt.ylabel('Actual')\n",
        "plt.title('Confusion Matrix for Neural Network Model')\n",
        "plt.show()"
      ],
      "metadata": {
        "colab": {
          "base_uri": "https://localhost:8080/",
          "height": 641
        },
        "id": "Aho-K-gzMquu",
        "outputId": "c11ec78e-9ef8-4587-cac6-1d09a1e391a9"
      },
      "execution_count": 82,
      "outputs": [
        {
          "output_type": "display_data",
          "data": {
            "text/plain": [
              "<Figure size 1000x700 with 2 Axes>"
            ],
            "image/png": "[encoded data removed]"
          },
          "metadata": {}
        }
      ]
    },
    {
      "cell_type": "code",
      "source": [
        "# Create a DataFrame with actual and predicted labels\n",
        "results_df = pd.DataFrame({\n",
        "    'Sentence': X_test_raw,  # Use the raw text data corresponding to the test set\n",
        "    'Actual Label': y_test_actual_labels,\n",
        "    'Predicted Label': y_pred_test_actual_labels_decoded\n",
        "})\n",
        "\n",
        "# Identify misclassified instances\n",
        "misclassified_df = results_df[results_df['Actual Label'] != results_df['Predicted Label']]\n",
        "\n",
        "# Display some examples of misclassified instances\n",
        "misclassified_samples = misclassified_df.sample(n=15)  # Adjust n to show more or fewer examples\n",
        "misclassified_samples"
      ],
      "metadata": {
        "colab": {
          "base_uri": "https://localhost:8080/",
          "height": 469
        },
        "id": "2HSIzhqvPLLw",
        "outputId": "00e6ca6e-1483-463a-a4d2-0ac81874d613"
      },
      "execution_count": 87,
      "outputs": [
        {
          "output_type": "execute_result",
          "data": {
            "text/plain": [
              "                                               Sentence Actual Label  \\\n",
              "4112  Dans une clairière enneigée, entourée d'arbres...           C2   \n",
              "2465  Des enfants en choeur : Des petits pois avec d...           A2   \n",
              "17    Le soir, je me cuche tôt parce que je dois êtr...           A1   \n",
              "1231  Le paysage devient tout blanc à cause de la ne...           A1   \n",
              "4202  L'une des plus emblématiques est Marie Sophie ...           B2   \n",
              "3509                Ce sera inoubliable, j'en suis sûr!           A1   \n",
              "4728  Tu as pensé à envoyer un message d'excuses à t...           B1   \n",
              "1101  Je suis dentiste dans un nouveau cabinet depui...           B1   \n",
              "3929  Puis-je vous proposer un massage en attendant ...           B1   \n",
              "2897  On lui accorda, pour compagnes, et afin de l'a...           C2   \n",
              "4229                   Elle doit les aider à apprendre.           A2   \n",
              "3526            Aujourd'hui, la méthode est bien rodée.           B1   \n",
              "4302                     Je vais en Grèce avec mon amie           A1   \n",
              "2252  Il y a belle lurette que les entreprises franç...           B2   \n",
              "3586  Le bulletin de notes du gouvernement a piètre ...           B2   \n",
              "\n",
              "     Predicted Label  \n",
              "4112              B1  \n",
              "2465              B1  \n",
              "17                A2  \n",
              "1231              B1  \n",
              "4202              A1  \n",
              "3509              A2  \n",
              "4728              A2  \n",
              "1101              A1  \n",
              "3929              A1  \n",
              "2897              C1  \n",
              "4229              B1  \n",
              "3526              A1  \n",
              "4302              A2  \n",
              "2252              C1  \n",
              "3586              B1  "
            ],
            "text/html": [
              "\n",
              "  <div id=\"df-21c0126f-919f-433f-89b0-ac8e7345e1ff\" class=\"colab-df-container\">\n",
              "    <div>\n",
              "<style scoped>\n",
              "    .dataframe tbody tr th:only-of-type {\n",
              "        vertical-align: middle;\n",
              "    }\n",
              "\n",
              "    .dataframe tbody tr th {\n",
              "        vertical-align: top;\n",
              "    }\n",
              "\n",
              "    .dataframe thead th {\n",
              "        text-align: right;\n",
              "    }\n",
              "</style>\n",
              "<table border=\"1\" class=\"dataframe\">\n",
              "  <thead>\n",
              "    <tr style=\"text-align: right;\">\n",
              "      <th></th>\n",
              "      <th>Sentence</th>\n",
              "      <th>Actual Label</th>\n",
              "      <th>Predicted Label</th>\n",
              "    </tr>\n",
              "  </thead>\n",
              "  <tbody>\n",
              "    <tr>\n",
              "      <th>4112</th>\n",
              "      <td>Dans une clairière enneigée, entourée d'arbres...</td>\n",
              "      <td>C2</td>\n",
              "      <td>B1</td>\n",
              "    </tr>\n",
              "    <tr>\n",
              "      <th>2465</th>\n",
              "      <td>Des enfants en choeur : Des petits pois avec d...</td>\n",
              "      <td>A2</td>\n",
              "      <td>B1</td>\n",
              "    </tr>\n",
              "    <tr>\n",
              "      <th>17</th>\n",
              "      <td>Le soir, je me cuche tôt parce que je dois êtr...</td>\n",
              "      <td>A1</td>\n",
              "      <td>A2</td>\n",
              "    </tr>\n",
              "    <tr>\n",
              "      <th>1231</th>\n",
              "      <td>Le paysage devient tout blanc à cause de la ne...</td>\n",
              "      <td>A1</td>\n",
              "      <td>B1</td>\n",
              "    </tr>\n",
              "    <tr>\n",
              "      <th>4202</th>\n",
              "      <td>L'une des plus emblématiques est Marie Sophie ...</td>\n",
              "      <td>B2</td>\n",
              "      <td>A1</td>\n",
              "    </tr>\n",
              "    <tr>\n",
              "      <th>3509</th>\n",
              "      <td>Ce sera inoubliable, j'en suis sûr!</td>\n",
              "      <td>A1</td>\n",
              "      <td>A2</td>\n",
              "    </tr>\n",
              "    <tr>\n",
              "      <th>4728</th>\n",
              "      <td>Tu as pensé à envoyer un message d'excuses à t...</td>\n",
              "      <td>B1</td>\n",
              "      <td>A2</td>\n",
              "    </tr>\n",
              "    <tr>\n",
              "      <th>1101</th>\n",
              "      <td>Je suis dentiste dans un nouveau cabinet depui...</td>\n",
              "      <td>B1</td>\n",
              "      <td>A1</td>\n",
              "    </tr>\n",
              "    <tr>\n",
              "      <th>3929</th>\n",
              "      <td>Puis-je vous proposer un massage en attendant ...</td>\n",
              "      <td>B1</td>\n",
              "      <td>A1</td>\n",
              "    </tr>\n",
              "    <tr>\n",
              "      <th>2897</th>\n",
              "      <td>On lui accorda, pour compagnes, et afin de l'a...</td>\n",
              "      <td>C2</td>\n",
              "      <td>C1</td>\n",
              "    </tr>\n",
              "    <tr>\n",
              "      <th>4229</th>\n",
              "      <td>Elle doit les aider à apprendre.</td>\n",
              "      <td>A2</td>\n",
              "      <td>B1</td>\n",
              "    </tr>\n",
              "    <tr>\n",
              "      <th>3526</th>\n",
              "      <td>Aujourd'hui, la méthode est bien rodée.</td>\n",
              "      <td>B1</td>\n",
              "      <td>A1</td>\n",
              "    </tr>\n",
              "    <tr>\n",
              "      <th>4302</th>\n",
              "      <td>Je vais en Grèce avec mon amie</td>\n",
              "      <td>A1</td>\n",
              "      <td>A2</td>\n",
              "    </tr>\n",
              "    <tr>\n",
              "      <th>2252</th>\n",
              "      <td>Il y a belle lurette que les entreprises franç...</td>\n",
              "      <td>B2</td>\n",
              "      <td>C1</td>\n",
              "    </tr>\n",
              "    <tr>\n",
              "      <th>3586</th>\n",
              "      <td>Le bulletin de notes du gouvernement a piètre ...</td>\n",
              "      <td>B2</td>\n",
              "      <td>B1</td>\n",
              "    </tr>\n",
              "  </tbody>\n",
              "</table>\n",
              "</div>\n",
              "    <div class=\"colab-df-buttons\">\n",
              "\n",
              "  <div class=\"colab-df-container\">\n",
              "    <button class=\"colab-df-convert\" onclick=\"convertToInteractive('df-21c0126f-919f-433f-89b0-ac8e7345e1ff')\"\n",
              "            title=\"Convert this dataframe to an interactive table.\"\n",
              "            style=\"display:none;\">\n",
              "\n",
              "  <svg xmlns=\"http://www.w3.org/2000/svg\" height=\"24px\" viewBox=\"0 -960 960 960\">\n",
              "    <path d=\"M120-120v-720h720v720H120Zm60-500h600v-160H180v160Zm220 220h160v-160H400v160Zm0 220h160v-160H400v160ZM180-400h160v-160H180v160Zm440 0h160v-160H620v160ZM180-180h160v-160H180v160Zm440 0h160v-160H620v160Z\"/>\n",
              "  </svg>\n",
              "    </button>\n",
              "\n",
              "  <style>\n",
              "    .colab-df-container {\n",
              "      display:flex;\n",
              "      gap: 12px;\n",
              "    }\n",
              "\n",
              "    .colab-df-convert {\n",
              "      background-color: #E8F0FE;\n",
              "      border: none;\n",
              "      border-radius: 50%;\n",
              "      cursor: pointer;\n",
              "      display: none;\n",
              "      fill: #1967D2;\n",
              "      height: 32px;\n",
              "      padding: 0 0 0 0;\n",
              "      width: 32px;\n",
              "    }\n",
              "\n",
              "    .colab-df-convert:hover {\n",
              "      background-color: #E2EBFA;\n",
              "      box-shadow: 0px 1px 2px rgba(60, 64, 67, 0.3), 0px 1px 3px 1px rgba(60, 64, 67, 0.15);\n",
              "      fill: #174EA6;\n",
              "    }\n",
              "\n",
              "    .colab-df-buttons div {\n",
              "      margin-bottom: 4px;\n",
              "    }\n",
              "\n",
              "    [theme=dark] .colab-df-convert {\n",
              "      background-color: #3B4455;\n",
              "      fill: #D2E3FC;\n",
              "    }\n",
              "\n",
              "    [theme=dark] .colab-df-convert:hover {\n",
              "      background-color: #434B5C;\n",
              "      box-shadow: 0px 1px 3px 1px rgba(0, 0, 0, 0.15);\n",
              "      filter: drop-shadow(0px 1px 2px rgba(0, 0, 0, 0.3));\n",
              "      fill: #FFFFFF;\n",
              "    }\n",
              "  </style>\n",
              "\n",
              "    <script>\n",
              "      const buttonEl =\n",
              "        document.querySelector('#df-21c0126f-919f-433f-89b0-ac8e7345e1ff button.colab-df-convert');\n",
              "      buttonEl.style.display =\n",
              "        google.colab.kernel.accessAllowed ? 'block' : 'none';\n",
              "\n",
              "      async function convertToInteractive(key) {\n",
              "        const element = document.querySelector('#df-21c0126f-919f-433f-89b0-ac8e7345e1ff');\n",
              "        const dataTable =\n",
              "          await google.colab.kernel.invokeFunction('convertToInteractive',\n",
              "                                                    [key], {});\n",
              "        if (!dataTable) return;\n",
              "\n",
              "        const docLinkHtml = 'Like what you see? Visit the ' +\n",
              "          '<a target=\"_blank\" href=https://colab.research.google.com/notebooks/data_table.ipynb>data table notebook</a>'\n",
              "          + ' to learn more about interactive tables.';\n",
              "        element.innerHTML = '';\n",
              "        dataTable['output_type'] = 'display_data';\n",
              "        await google.colab.output.renderOutput(dataTable, element);\n",
              "        const docLink = document.createElement('div');\n",
              "        docLink.innerHTML = docLinkHtml;\n",
              "        element.appendChild(docLink);\n",
              "      }\n",
              "    </script>\n",
              "  </div>\n",
              "\n",
              "\n",
              "<div id=\"df-b17e6fba-19a0-4c73-99d5-d65c477bbf4d\">\n",
              "  <button class=\"colab-df-quickchart\" onclick=\"quickchart('df-b17e6fba-19a0-4c73-99d5-d65c477bbf4d')\"\n",
              "            title=\"Suggest charts\"\n",
              "            style=\"display:none;\">\n",
              "\n",
              "<svg xmlns=\"http://www.w3.org/2000/svg\" height=\"24px\"viewBox=\"0 0 24 24\"\n",
              "     width=\"24px\">\n",
              "    <g>\n",
              "        <path d=\"M19 3H5c-1.1 0-2 .9-2 2v14c0 1.1.9 2 2 2h14c1.1 0 2-.9 2-2V5c0-1.1-.9-2-2-2zM9 17H7v-7h2v7zm4 0h-2V7h2v10zm4 0h-2v-4h2v4z\"/>\n",
              "    </g>\n",
              "</svg>\n",
              "  </button>\n",
              "\n",
              "<style>\n",
              "  .colab-df-quickchart {\n",
              "      --bg-color: #E8F0FE;\n",
              "      --fill-color: #1967D2;\n",
              "      --hover-bg-color: #E2EBFA;\n",
              "      --hover-fill-color: #174EA6;\n",
              "      --disabled-fill-color: #AAA;\n",
              "      --disabled-bg-color: #DDD;\n",
              "  }\n",
              "\n",
              "  [theme=dark] .colab-df-quickchart {\n",
              "      --bg-color: #3B4455;\n",
              "      --fill-color: #D2E3FC;\n",
              "      --hover-bg-color: #434B5C;\n",
              "      --hover-fill-color: #FFFFFF;\n",
              "      --disabled-bg-color: #3B4455;\n",
              "      --disabled-fill-color: #666;\n",
              "  }\n",
              "\n",
              "  .colab-df-quickchart {\n",
              "    background-color: var(--bg-color);\n",
              "    border: none;\n",
              "    border-radius: 50%;\n",
              "    cursor: pointer;\n",
              "    display: none;\n",
              "    fill: var(--fill-color);\n",
              "    height: 32px;\n",
              "    padding: 0;\n",
              "    width: 32px;\n",
              "  }\n",
              "\n",
              "  .colab-df-quickchart:hover {\n",
              "    background-color: var(--hover-bg-color);\n",
              "    box-shadow: 0 1px 2px rgba(60, 64, 67, 0.3), 0 1px 3px 1px rgba(60, 64, 67, 0.15);\n",
              "    fill: var(--button-hover-fill-color);\n",
              "  }\n",
              "\n",
              "  .colab-df-quickchart-complete:disabled,\n",
              "  .colab-df-quickchart-complete:disabled:hover {\n",
              "    background-color: var(--disabled-bg-color);\n",
              "    fill: var(--disabled-fill-color);\n",
              "    box-shadow: none;\n",
              "  }\n",
              "\n",
              "  .colab-df-spinner {\n",
              "    border: 2px solid var(--fill-color);\n",
              "    border-color: transparent;\n",
              "    border-bottom-color: var(--fill-color);\n",
              "    animation:\n",
              "      spin 1s steps(1) infinite;\n",
              "  }\n",
              "\n",
              "  @keyframes spin {\n",
              "    0% {\n",
              "      border-color: transparent;\n",
              "      border-bottom-color: var(--fill-color);\n",
              "      border-left-color: var(--fill-color);\n",
              "    }\n",
              "    20% {\n",
              "      border-color: transparent;\n",
              "      border-left-color: var(--fill-color);\n",
              "      border-top-color: var(--fill-color);\n",
              "    }\n",
              "    30% {\n",
              "      border-color: transparent;\n",
              "      border-left-color: var(--fill-color);\n",
              "      border-top-color: var(--fill-color);\n",
              "      border-right-color: var(--fill-color);\n",
              "    }\n",
              "    40% {\n",
              "      border-color: transparent;\n",
              "      border-right-color: var(--fill-color);\n",
              "      border-top-color: var(--fill-color);\n",
              "    }\n",
              "    60% {\n",
              "      border-color: transparent;\n",
              "      border-right-color: var(--fill-color);\n",
              "    }\n",
              "    80% {\n",
              "      border-color: transparent;\n",
              "      border-right-color: var(--fill-color);\n",
              "      border-bottom-color: var(--fill-color);\n",
              "    }\n",
              "    90% {\n",
              "      border-color: transparent;\n",
              "      border-bottom-color: var(--fill-color);\n",
              "    }\n",
              "  }\n",
              "</style>\n",
              "\n",
              "  <script>\n",
              "    async function quickchart(key) {\n",
              "      const quickchartButtonEl =\n",
              "        document.querySelector('#' + key + ' button');\n",
              "      quickchartButtonEl.disabled = true;  // To prevent multiple clicks.\n",
              "      quickchartButtonEl.classList.add('colab-df-spinner');\n",
              "      try {\n",
              "        const charts = await google.colab.kernel.invokeFunction(\n",
              "            'suggestCharts', [key], {});\n",
              "      } catch (error) {\n",
              "        console.error('Error during call to suggestCharts:', error);\n",
              "      }\n",
              "      quickchartButtonEl.classList.remove('colab-df-spinner');\n",
              "      quickchartButtonEl.classList.add('colab-df-quickchart-complete');\n",
              "    }\n",
              "    (() => {\n",
              "      let quickchartButtonEl =\n",
              "        document.querySelector('#df-b17e6fba-19a0-4c73-99d5-d65c477bbf4d button');\n",
              "      quickchartButtonEl.style.display =\n",
              "        google.colab.kernel.accessAllowed ? 'block' : 'none';\n",
              "    })();\n",
              "  </script>\n",
              "</div>\n",
              "    </div>\n",
              "  </div>\n"
            ],
            "application/vnd.google.colaboratory.intrinsic+json": {
              "type": "dataframe",
              "variable_name": "misclassified_samples",
              "summary": "{\n  \"name\": \"misclassified_samples\",\n  \"rows\": 15,\n  \"fields\": [\n    {\n      \"column\": \"Sentence\",\n      \"properties\": {\n        \"dtype\": \"string\",\n        \"num_unique_values\": 15,\n        \"samples\": [\n          \"On lui accorda, pour compagnes, et afin de l'aider lors de son accouchement, deux femmes des plus sages furent clo\\u00eetr\\u00e9es avec elle.\",\n          \"Aujourd'hui, la m\\u00e9thode est bien rod\\u00e9e.\",\n          \"Dans une clairi\\u00e8re enneig\\u00e9e, entour\\u00e9e d'arbres d\\u00e9nud\\u00e9s, une Citro\\u00ebn AX blance, bien fatigu\\u00e9e, attel\\u00e9e d'une remorque de type frigorifique, aurait l'air abandonn\\u00e9e si l'on ne distinguait quatre hommes aux cheveux tr\\u00e8s longs, assis dans la voiture.\"\n        ],\n        \"semantic_type\": \"\",\n        \"description\": \"\"\n      }\n    },\n    {\n      \"column\": \"Actual Label\",\n      \"properties\": {\n        \"dtype\": \"category\",\n        \"num_unique_values\": 5,\n        \"samples\": [\n          \"A2\",\n          \"B1\",\n          \"A1\"\n        ],\n        \"semantic_type\": \"\",\n        \"description\": \"\"\n      }\n    },\n    {\n      \"column\": \"Predicted Label\",\n      \"properties\": {\n        \"dtype\": \"category\",\n        \"num_unique_values\": 4,\n        \"samples\": [\n          \"A2\",\n          \"C1\",\n          \"B1\"\n        ],\n        \"semantic_type\": \"\",\n        \"description\": \"\"\n      }\n    }\n  ]\n}"
            }
          },
          "metadata": {},
          "execution_count": 87
        }
      ]
    },
    {
      "cell_type": "code",
      "source": [
        "# Count the misclassifications for each actual label\n",
        "misclassified_counts = misclassified_df['Actual Label'].value_counts().sort_index()\n",
        "total_counts = results_df['Actual Label'].value_counts().sort_index()\n",
        "\n",
        "# Calculate the proportion of misclassifications\n",
        "misclassification_rate = misclassified_counts / total_counts\n",
        "\n",
        "# Plot the misclassification rate for each class\n",
        "plt.figure(figsize=(10, 6))\n",
        "sns.barplot(x=misclassification_rate.index, y=misclassification_rate.values, palette='viridis')\n",
        "plt.xlabel('Actual Label')\n",
        "plt.ylabel('Misclassification Rate')\n",
        "plt.title('Misclassification Rate by Actual Label')\n",
        "plt.show()"
      ],
      "metadata": {
        "colab": {
          "base_uri": "https://localhost:8080/",
          "height": 651
        },
        "id": "iLY8IgaORsdD",
        "outputId": "f23c6ead-0b6e-45bf-d505-ac2286fed53d"
      },
      "execution_count": 88,
      "outputs": [
        {
          "output_type": "stream",
          "name": "stderr",
          "text": [
            "<ipython-input-88-5fdf07dae0d6>:10: FutureWarning: \n",
            "\n",
            "Passing `palette` without assigning `hue` is deprecated and will be removed in v0.14.0. Assign the `x` variable to `hue` and set `legend=False` for the same effect.\n",
            "\n",
            "  sns.barplot(x=misclassification_rate.index, y=misclassification_rate.values, palette='viridis')\n"
          ]
        },
        {
          "output_type": "display_data",
          "data": {
            "text/plain": [
              "<Figure size 1000x600 with 1 Axes>"
            ],
            "image/png": "[encoded data removed]"
          },
          "metadata": {}
        }
      ]
    },
    {
      "cell_type": "code",
      "source": [
        "# Add sentence length to the DataFrame\n",
        "results_df['Sentence Length'] = results_df['Sentence'].apply(len)\n",
        "misclassified_df['Sentence Length'] = misclassified_df['Sentence'].apply(len)\n",
        "\n",
        "# Plot the distribution of sentence lengths for misclassified and correctly classified instances\n",
        "plt.figure(figsize=(10, 6))\n",
        "sns.histplot(results_df['Sentence Length'], color='blue', label='All Instances', kde=True, stat=\"density\")\n",
        "sns.histplot(misclassified_df['Sentence Length'], color='red', label='Misclassified Instances', kde=True, stat=\"density\")\n",
        "plt.xlabel('Sentence Length')\n",
        "plt.ylabel('Density')\n",
        "plt.title('Distribution of Sentence Lengths')\n",
        "plt.legend()\n",
        "plt.show()"
      ],
      "metadata": {
        "colab": {
          "base_uri": "https://localhost:8080/",
          "height": 668
        },
        "id": "AyHFfjx4U6qe",
        "outputId": "a1137b58-2fe8-442c-a13c-4cfb49d60a21"
      },
      "execution_count": 89,
      "outputs": [
        {
          "output_type": "stream",
          "name": "stderr",
          "text": [
            "<ipython-input-89-c6acd9247768>:3: SettingWithCopyWarning: \n",
            "A value is trying to be set on a copy of a slice from a DataFrame.\n",
            "Try using .loc[row_indexer,col_indexer] = value instead\n",
            "\n",
            "See the caveats in the documentation: https://pandas.pydata.org/pandas-docs/stable/user_guide/indexing.html#returning-a-view-versus-a-copy\n",
            "  misclassified_df['Sentence Length'] = misclassified_df['Sentence'].apply(len)\n"
          ]
        },
        {
          "output_type": "display_data",
          "data": {
            "text/plain": [
              "<Figure size 1000x600 with 1 Axes>"
            ],
            "image/png": "[encoded data removed]"
          },
          "metadata": {}
        }
      ]
    },
    {
      "cell_type": "code",
      "source": [
        "# Count the frequency of each actual-predicted pair\n",
        "misclassification_patterns = misclassified_df.groupby(['Actual Label', 'Predicted Label']).size().reset_index(name='Count')\n",
        "misclassification_patterns = misclassification_patterns.sort_values(by='Count', ascending=False)\n",
        "\n",
        "# Display the most common misclassification patterns\n",
        "misclassification_patterns.head(15)"
      ],
      "metadata": {
        "colab": {
          "base_uri": "https://localhost:8080/",
          "height": 519
        },
        "id": "Fl6V6psgVD0n",
        "outputId": "4968dddc-fa84-4ba7-c729-78e9384e9408"
      },
      "execution_count": 91,
      "outputs": [
        {
          "output_type": "execute_result",
          "data": {
            "text/plain": [
              "   Actual Label Predicted Label  Count\n",
              "0            A1              A2     39\n",
              "5            A2              B1     39\n",
              "4            A2              A1     38\n",
              "10           B1              A2     35\n",
              "17           B2              C1     34\n",
              "23           C1              C2     32\n",
              "22           C1              B2     32\n",
              "27           C2              C1     30\n",
              "16           B2              B1     26\n",
              "26           C2              B2     26\n",
              "1            A1              B1     24\n",
              "18           B2              C2     20\n",
              "21           C1              B1     18\n",
              "25           C2              B1     17\n",
              "9            B1              A1     15"
            ],
            "text/html": [
              "\n",
              "  <div id=\"df-637b7f18-def3-48fa-9212-1f971a5d666e\" class=\"colab-df-container\">\n",
              "    <div>\n",
              "<style scoped>\n",
              "    .dataframe tbody tr th:only-of-type {\n",
              "        vertical-align: middle;\n",
              "    }\n",
              "\n",
              "    .dataframe tbody tr th {\n",
              "        vertical-align: top;\n",
              "    }\n",
              "\n",
              "    .dataframe thead th {\n",
              "        text-align: right;\n",
              "    }\n",
              "</style>\n",
              "<table border=\"1\" class=\"dataframe\">\n",
              "  <thead>\n",
              "    <tr style=\"text-align: right;\">\n",
              "      <th></th>\n",
              "      <th>Actual Label</th>\n",
              "      <th>Predicted Label</th>\n",
              "      <th>Count</th>\n",
              "    </tr>\n",
              "  </thead>\n",
              "  <tbody>\n",
              "    <tr>\n",
              "      <th>0</th>\n",
              "      <td>A1</td>\n",
              "      <td>A2</td>\n",
              "      <td>39</td>\n",
              "    </tr>\n",
              "    <tr>\n",
              "      <th>5</th>\n",
              "      <td>A2</td>\n",
              "      <td>B1</td>\n",
              "      <td>39</td>\n",
              "    </tr>\n",
              "    <tr>\n",
              "      <th>4</th>\n",
              "      <td>A2</td>\n",
              "      <td>A1</td>\n",
              "      <td>38</td>\n",
              "    </tr>\n",
              "    <tr>\n",
              "      <th>10</th>\n",
              "      <td>B1</td>\n",
              "      <td>A2</td>\n",
              "      <td>35</td>\n",
              "    </tr>\n",
              "    <tr>\n",
              "      <th>17</th>\n",
              "      <td>B2</td>\n",
              "      <td>C1</td>\n",
              "      <td>34</td>\n",
              "    </tr>\n",
              "    <tr>\n",
              "      <th>23</th>\n",
              "      <td>C1</td>\n",
              "      <td>C2</td>\n",
              "      <td>32</td>\n",
              "    </tr>\n",
              "    <tr>\n",
              "      <th>22</th>\n",
              "      <td>C1</td>\n",
              "      <td>B2</td>\n",
              "      <td>32</td>\n",
              "    </tr>\n",
              "    <tr>\n",
              "      <th>27</th>\n",
              "      <td>C2</td>\n",
              "      <td>C1</td>\n",
              "      <td>30</td>\n",
              "    </tr>\n",
              "    <tr>\n",
              "      <th>16</th>\n",
              "      <td>B2</td>\n",
              "      <td>B1</td>\n",
              "      <td>26</td>\n",
              "    </tr>\n",
              "    <tr>\n",
              "      <th>26</th>\n",
              "      <td>C2</td>\n",
              "      <td>B2</td>\n",
              "      <td>26</td>\n",
              "    </tr>\n",
              "    <tr>\n",
              "      <th>1</th>\n",
              "      <td>A1</td>\n",
              "      <td>B1</td>\n",
              "      <td>24</td>\n",
              "    </tr>\n",
              "    <tr>\n",
              "      <th>18</th>\n",
              "      <td>B2</td>\n",
              "      <td>C2</td>\n",
              "      <td>20</td>\n",
              "    </tr>\n",
              "    <tr>\n",
              "      <th>21</th>\n",
              "      <td>C1</td>\n",
              "      <td>B1</td>\n",
              "      <td>18</td>\n",
              "    </tr>\n",
              "    <tr>\n",
              "      <th>25</th>\n",
              "      <td>C2</td>\n",
              "      <td>B1</td>\n",
              "      <td>17</td>\n",
              "    </tr>\n",
              "    <tr>\n",
              "      <th>9</th>\n",
              "      <td>B1</td>\n",
              "      <td>A1</td>\n",
              "      <td>15</td>\n",
              "    </tr>\n",
              "  </tbody>\n",
              "</table>\n",
              "</div>\n",
              "    <div class=\"colab-df-buttons\">\n",
              "\n",
              "  <div class=\"colab-df-container\">\n",
              "    <button class=\"colab-df-convert\" onclick=\"convertToInteractive('df-637b7f18-def3-48fa-9212-1f971a5d666e')\"\n",
              "            title=\"Convert this dataframe to an interactive table.\"\n",
              "            style=\"display:none;\">\n",
              "\n",
              "  <svg xmlns=\"http://www.w3.org/2000/svg\" height=\"24px\" viewBox=\"0 -960 960 960\">\n",
              "    <path d=\"M120-120v-720h720v720H120Zm60-500h600v-160H180v160Zm220 220h160v-160H400v160Zm0 220h160v-160H400v160ZM180-400h160v-160H180v160Zm440 0h160v-160H620v160ZM180-180h160v-160H180v160Zm440 0h160v-160H620v160Z\"/>\n",
              "  </svg>\n",
              "    </button>\n",
              "\n",
              "  <style>\n",
              "    .colab-df-container {\n",
              "      display:flex;\n",
              "      gap: 12px;\n",
              "    }\n",
              "\n",
              "    .colab-df-convert {\n",
              "      background-color: #E8F0FE;\n",
              "      border: none;\n",
              "      border-radius: 50%;\n",
              "      cursor: pointer;\n",
              "      display: none;\n",
              "      fill: #1967D2;\n",
              "      height: 32px;\n",
              "      padding: 0 0 0 0;\n",
              "      width: 32px;\n",
              "    }\n",
              "\n",
              "    .colab-df-convert:hover {\n",
              "      background-color: #E2EBFA;\n",
              "      box-shadow: 0px 1px 2px rgba(60, 64, 67, 0.3), 0px 1px 3px 1px rgba(60, 64, 67, 0.15);\n",
              "      fill: #174EA6;\n",
              "    }\n",
              "\n",
              "    .colab-df-buttons div {\n",
              "      margin-bottom: 4px;\n",
              "    }\n",
              "\n",
              "    [theme=dark] .colab-df-convert {\n",
              "      background-color: #3B4455;\n",
              "      fill: #D2E3FC;\n",
              "    }\n",
              "\n",
              "    [theme=dark] .colab-df-convert:hover {\n",
              "      background-color: #434B5C;\n",
              "      box-shadow: 0px 1px 3px 1px rgba(0, 0, 0, 0.15);\n",
              "      filter: drop-shadow(0px 1px 2px rgba(0, 0, 0, 0.3));\n",
              "      fill: #FFFFFF;\n",
              "    }\n",
              "  </style>\n",
              "\n",
              "    <script>\n",
              "      const buttonEl =\n",
              "        document.querySelector('#df-637b7f18-def3-48fa-9212-1f971a5d666e button.colab-df-convert');\n",
              "      buttonEl.style.display =\n",
              "        google.colab.kernel.accessAllowed ? 'block' : 'none';\n",
              "\n",
              "      async function convertToInteractive(key) {\n",
              "        const element = document.querySelector('#df-637b7f18-def3-48fa-9212-1f971a5d666e');\n",
              "        const dataTable =\n",
              "          await google.colab.kernel.invokeFunction('convertToInteractive',\n",
              "                                                    [key], {});\n",
              "        if (!dataTable) return;\n",
              "\n",
              "        const docLinkHtml = 'Like what you see? Visit the ' +\n",
              "          '<a target=\"_blank\" href=https://colab.research.google.com/notebooks/data_table.ipynb>data table notebook</a>'\n",
              "          + ' to learn more about interactive tables.';\n",
              "        element.innerHTML = '';\n",
              "        dataTable['output_type'] = 'display_data';\n",
              "        await google.colab.output.renderOutput(dataTable, element);\n",
              "        const docLink = document.createElement('div');\n",
              "        docLink.innerHTML = docLinkHtml;\n",
              "        element.appendChild(docLink);\n",
              "      }\n",
              "    </script>\n",
              "  </div>\n",
              "\n",
              "\n",
              "<div id=\"df-c2acfbe2-a801-419c-b4b7-b52875b2f489\">\n",
              "  <button class=\"colab-df-quickchart\" onclick=\"quickchart('df-c2acfbe2-a801-419c-b4b7-b52875b2f489')\"\n",
              "            title=\"Suggest charts\"\n",
              "            style=\"display:none;\">\n",
              "\n",
              "<svg xmlns=\"http://www.w3.org/2000/svg\" height=\"24px\"viewBox=\"0 0 24 24\"\n",
              "     width=\"24px\">\n",
              "    <g>\n",
              "        <path d=\"M19 3H5c-1.1 0-2 .9-2 2v14c0 1.1.9 2 2 2h14c1.1 0 2-.9 2-2V5c0-1.1-.9-2-2-2zM9 17H7v-7h2v7zm4 0h-2V7h2v10zm4 0h-2v-4h2v4z\"/>\n",
              "    </g>\n",
              "</svg>\n",
              "  </button>\n",
              "\n",
              "<style>\n",
              "  .colab-df-quickchart {\n",
              "      --bg-color: #E8F0FE;\n",
              "      --fill-color: #1967D2;\n",
              "      --hover-bg-color: #E2EBFA;\n",
              "      --hover-fill-color: #174EA6;\n",
              "      --disabled-fill-color: #AAA;\n",
              "      --disabled-bg-color: #DDD;\n",
              "  }\n",
              "\n",
              "  [theme=dark] .colab-df-quickchart {\n",
              "      --bg-color: #3B4455;\n",
              "      --fill-color: #D2E3FC;\n",
              "      --hover-bg-color: #434B5C;\n",
              "      --hover-fill-color: #FFFFFF;\n",
              "      --disabled-bg-color: #3B4455;\n",
              "      --disabled-fill-color: #666;\n",
              "  }\n",
              "\n",
              "  .colab-df-quickchart {\n",
              "    background-color: var(--bg-color);\n",
              "    border: none;\n",
              "    border-radius: 50%;\n",
              "    cursor: pointer;\n",
              "    display: none;\n",
              "    fill: var(--fill-color);\n",
              "    height: 32px;\n",
              "    padding: 0;\n",
              "    width: 32px;\n",
              "  }\n",
              "\n",
              "  .colab-df-quickchart:hover {\n",
              "    background-color: var(--hover-bg-color);\n",
              "    box-shadow: 0 1px 2px rgba(60, 64, 67, 0.3), 0 1px 3px 1px rgba(60, 64, 67, 0.15);\n",
              "    fill: var(--button-hover-fill-color);\n",
              "  }\n",
              "\n",
              "  .colab-df-quickchart-complete:disabled,\n",
              "  .colab-df-quickchart-complete:disabled:hover {\n",
              "    background-color: var(--disabled-bg-color);\n",
              "    fill: var(--disabled-fill-color);\n",
              "    box-shadow: none;\n",
              "  }\n",
              "\n",
              "  .colab-df-spinner {\n",
              "    border: 2px solid var(--fill-color);\n",
              "    border-color: transparent;\n",
              "    border-bottom-color: var(--fill-color);\n",
              "    animation:\n",
              "      spin 1s steps(1) infinite;\n",
              "  }\n",
              "\n",
              "  @keyframes spin {\n",
              "    0% {\n",
              "      border-color: transparent;\n",
              "      border-bottom-color: var(--fill-color);\n",
              "      border-left-color: var(--fill-color);\n",
              "    }\n",
              "    20% {\n",
              "      border-color: transparent;\n",
              "      border-left-color: var(--fill-color);\n",
              "      border-top-color: var(--fill-color);\n",
              "    }\n",
              "    30% {\n",
              "      border-color: transparent;\n",
              "      border-left-color: var(--fill-color);\n",
              "      border-top-color: var(--fill-color);\n",
              "      border-right-color: var(--fill-color);\n",
              "    }\n",
              "    40% {\n",
              "      border-color: transparent;\n",
              "      border-right-color: var(--fill-color);\n",
              "      border-top-color: var(--fill-color);\n",
              "    }\n",
              "    60% {\n",
              "      border-color: transparent;\n",
              "      border-right-color: var(--fill-color);\n",
              "    }\n",
              "    80% {\n",
              "      border-color: transparent;\n",
              "      border-right-color: var(--fill-color);\n",
              "      border-bottom-color: var(--fill-color);\n",
              "    }\n",
              "    90% {\n",
              "      border-color: transparent;\n",
              "      border-bottom-color: var(--fill-color);\n",
              "    }\n",
              "  }\n",
              "</style>\n",
              "\n",
              "  <script>\n",
              "    async function quickchart(key) {\n",
              "      const quickchartButtonEl =\n",
              "        document.querySelector('#' + key + ' button');\n",
              "      quickchartButtonEl.disabled = true;  // To prevent multiple clicks.\n",
              "      quickchartButtonEl.classList.add('colab-df-spinner');\n",
              "      try {\n",
              "        const charts = await google.colab.kernel.invokeFunction(\n",
              "            'suggestCharts', [key], {});\n",
              "      } catch (error) {\n",
              "        console.error('Error during call to suggestCharts:', error);\n",
              "      }\n",
              "      quickchartButtonEl.classList.remove('colab-df-spinner');\n",
              "      quickchartButtonEl.classList.add('colab-df-quickchart-complete');\n",
              "    }\n",
              "    (() => {\n",
              "      let quickchartButtonEl =\n",
              "        document.querySelector('#df-c2acfbe2-a801-419c-b4b7-b52875b2f489 button');\n",
              "      quickchartButtonEl.style.display =\n",
              "        google.colab.kernel.accessAllowed ? 'block' : 'none';\n",
              "    })();\n",
              "  </script>\n",
              "</div>\n",
              "    </div>\n",
              "  </div>\n"
            ],
            "application/vnd.google.colaboratory.intrinsic+json": {
              "type": "dataframe",
              "variable_name": "misclassification_patterns",
              "summary": "{\n  \"name\": \"misclassification_patterns\",\n  \"rows\": 28,\n  \"fields\": [\n    {\n      \"column\": \"Actual Label\",\n      \"properties\": {\n        \"dtype\": \"category\",\n        \"num_unique_values\": 6,\n        \"samples\": [\n          \"A1\",\n          \"A2\",\n          \"C2\"\n        ],\n        \"semantic_type\": \"\",\n        \"description\": \"\"\n      }\n    },\n    {\n      \"column\": \"Predicted Label\",\n      \"properties\": {\n        \"dtype\": \"category\",\n        \"num_unique_values\": 6,\n        \"samples\": [\n          \"A2\",\n          \"B1\",\n          \"B2\"\n        ],\n        \"semantic_type\": \"\",\n        \"description\": \"\"\n      }\n    },\n    {\n      \"column\": \"Count\",\n      \"properties\": {\n        \"dtype\": \"number\",\n        \"std\": 13,\n        \"min\": 1,\n        \"max\": 39,\n        \"num_unique_values\": 20,\n        \"samples\": [\n          39,\n          3,\n          5\n        ],\n        \"semantic_type\": \"\",\n        \"description\": \"\"\n      }\n    }\n  ]\n}"
            }
          },
          "metadata": {},
          "execution_count": 91
        }
      ]
    }
  ]
}